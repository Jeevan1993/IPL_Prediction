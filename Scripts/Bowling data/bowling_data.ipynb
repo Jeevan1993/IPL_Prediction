{
 "cells": [
  {
   "cell_type": "code",
   "execution_count": 1,
   "metadata": {},
   "outputs": [],
   "source": [
    "import pandas as pd\n",
    "import numpy as np"
   ]
  },
  {
   "cell_type": "code",
   "execution_count": 2,
   "metadata": {},
   "outputs": [],
   "source": [
    "df_bowl=pd.read_csv(\"/home/g1/Desktop/IPL/Bowling data/bowl.csv\")\n",
    "df_bat=pd.read_csv(\"/home/g1/Desktop/IPL/Batting data/bat.csv\")"
   ]
  },
  {
   "cell_type": "code",
   "execution_count": 18,
   "metadata": {},
   "outputs": [],
   "source": [
    "df_bowl=df_bowl.drop(columns=\"0\")"
   ]
  },
  {
   "cell_type": "code",
   "execution_count": 19,
   "metadata": {},
   "outputs": [
    {
     "data": {
      "text/html": [
       "<div>\n",
       "<style scoped>\n",
       "    .dataframe tbody tr th:only-of-type {\n",
       "        vertical-align: middle;\n",
       "    }\n",
       "\n",
       "    .dataframe tbody tr th {\n",
       "        vertical-align: top;\n",
       "    }\n",
       "\n",
       "    .dataframe thead th {\n",
       "        text-align: right;\n",
       "    }\n",
       "</style>\n",
       "<table border=\"1\" class=\"dataframe\">\n",
       "  <thead>\n",
       "    <tr style=\"text-align: right;\">\n",
       "      <th></th>\n",
       "      <th>1</th>\n",
       "      <th>2</th>\n",
       "      <th>3</th>\n",
       "      <th>4</th>\n",
       "      <th>5</th>\n",
       "      <th>6</th>\n",
       "      <th>7</th>\n",
       "      <th>8</th>\n",
       "      <th>9</th>\n",
       "      <th>10</th>\n",
       "      <th>...</th>\n",
       "      <th>57</th>\n",
       "      <th>58</th>\n",
       "      <th>59</th>\n",
       "      <th>60</th>\n",
       "      <th>61</th>\n",
       "      <th>62</th>\n",
       "      <th>63</th>\n",
       "      <th>64</th>\n",
       "      <th>65</th>\n",
       "      <th>66</th>\n",
       "    </tr>\n",
       "  </thead>\n",
       "  <tbody>\n",
       "    <tr>\n",
       "      <th>0</th>\n",
       "      <td>70.166667</td>\n",
       "      <td>0.000000</td>\n",
       "      <td>85.250000</td>\n",
       "      <td>24.101667</td>\n",
       "      <td>37.450000</td>\n",
       "      <td>0.000000</td>\n",
       "      <td>22.920000</td>\n",
       "      <td>15.941667</td>\n",
       "      <td>21.673333</td>\n",
       "      <td>22.888333</td>\n",
       "      <td>...</td>\n",
       "      <td>0.0000</td>\n",
       "      <td>6.930</td>\n",
       "      <td>7.2075</td>\n",
       "      <td>6.4400</td>\n",
       "      <td>6.6750</td>\n",
       "      <td>0.000</td>\n",
       "      <td>7.7500</td>\n",
       "      <td>7.9350</td>\n",
       "      <td>6.6675</td>\n",
       "      <td>8.2900</td>\n",
       "    </tr>\n",
       "    <tr>\n",
       "      <th>1</th>\n",
       "      <td>27.080000</td>\n",
       "      <td>24.346667</td>\n",
       "      <td>0.000000</td>\n",
       "      <td>20.976667</td>\n",
       "      <td>23.146667</td>\n",
       "      <td>20.711667</td>\n",
       "      <td>0.000000</td>\n",
       "      <td>20.766667</td>\n",
       "      <td>27.468333</td>\n",
       "      <td>26.026667</td>\n",
       "      <td>...</td>\n",
       "      <td>9.4950</td>\n",
       "      <td>7.240</td>\n",
       "      <td>7.5600</td>\n",
       "      <td>7.5525</td>\n",
       "      <td>7.6250</td>\n",
       "      <td>7.920</td>\n",
       "      <td>8.1150</td>\n",
       "      <td>6.8700</td>\n",
       "      <td>7.0800</td>\n",
       "      <td>6.0425</td>\n",
       "    </tr>\n",
       "    <tr>\n",
       "      <th>2</th>\n",
       "      <td>24.000000</td>\n",
       "      <td>24.193333</td>\n",
       "      <td>18.440000</td>\n",
       "      <td>27.360000</td>\n",
       "      <td>0.000000</td>\n",
       "      <td>21.106667</td>\n",
       "      <td>23.413333</td>\n",
       "      <td>20.166667</td>\n",
       "      <td>23.356667</td>\n",
       "      <td>18.483333</td>\n",
       "      <td>...</td>\n",
       "      <td>8.1525</td>\n",
       "      <td>7.605</td>\n",
       "      <td>7.7850</td>\n",
       "      <td>6.7200</td>\n",
       "      <td>7.1100</td>\n",
       "      <td>6.420</td>\n",
       "      <td>0.0000</td>\n",
       "      <td>6.3750</td>\n",
       "      <td>7.3500</td>\n",
       "      <td>7.7575</td>\n",
       "    </tr>\n",
       "    <tr>\n",
       "      <th>3</th>\n",
       "      <td>0.000000</td>\n",
       "      <td>23.616667</td>\n",
       "      <td>21.906667</td>\n",
       "      <td>35.466667</td>\n",
       "      <td>0.000000</td>\n",
       "      <td>20.066667</td>\n",
       "      <td>17.943333</td>\n",
       "      <td>23.430000</td>\n",
       "      <td>13.686667</td>\n",
       "      <td>22.145000</td>\n",
       "      <td>...</td>\n",
       "      <td>7.9350</td>\n",
       "      <td>6.840</td>\n",
       "      <td>7.1550</td>\n",
       "      <td>8.6925</td>\n",
       "      <td>0.0000</td>\n",
       "      <td>6.645</td>\n",
       "      <td>7.2725</td>\n",
       "      <td>7.4825</td>\n",
       "      <td>6.1650</td>\n",
       "      <td>7.5950</td>\n",
       "    </tr>\n",
       "    <tr>\n",
       "      <th>4</th>\n",
       "      <td>0.000000</td>\n",
       "      <td>0.000000</td>\n",
       "      <td>22.413333</td>\n",
       "      <td>25.906667</td>\n",
       "      <td>24.581667</td>\n",
       "      <td>23.463333</td>\n",
       "      <td>18.413333</td>\n",
       "      <td>22.885000</td>\n",
       "      <td>16.695000</td>\n",
       "      <td>18.860000</td>\n",
       "      <td>...</td>\n",
       "      <td>7.3200</td>\n",
       "      <td>7.065</td>\n",
       "      <td>8.0900</td>\n",
       "      <td>8.8100</td>\n",
       "      <td>6.8275</td>\n",
       "      <td>9.360</td>\n",
       "      <td>7.4550</td>\n",
       "      <td>6.0250</td>\n",
       "      <td>7.2525</td>\n",
       "      <td>6.6725</td>\n",
       "    </tr>\n",
       "  </tbody>\n",
       "</table>\n",
       "<p>5 rows × 66 columns</p>\n",
       "</div>"
      ],
      "text/plain": [
       "           1          2          3          4          5          6  \\\n",
       "0  70.166667   0.000000  85.250000  24.101667  37.450000   0.000000   \n",
       "1  27.080000  24.346667   0.000000  20.976667  23.146667  20.711667   \n",
       "2  24.000000  24.193333  18.440000  27.360000   0.000000  21.106667   \n",
       "3   0.000000  23.616667  21.906667  35.466667   0.000000  20.066667   \n",
       "4   0.000000   0.000000  22.413333  25.906667  24.581667  23.463333   \n",
       "\n",
       "           7          8          9         10  ...      57     58      59  \\\n",
       "0  22.920000  15.941667  21.673333  22.888333  ...  0.0000  6.930  7.2075   \n",
       "1   0.000000  20.766667  27.468333  26.026667  ...  9.4950  7.240  7.5600   \n",
       "2  23.413333  20.166667  23.356667  18.483333  ...  8.1525  7.605  7.7850   \n",
       "3  17.943333  23.430000  13.686667  22.145000  ...  7.9350  6.840  7.1550   \n",
       "4  18.413333  22.885000  16.695000  18.860000  ...  7.3200  7.065  8.0900   \n",
       "\n",
       "       60      61     62      63      64      65      66  \n",
       "0  6.4400  6.6750  0.000  7.7500  7.9350  6.6675  8.2900  \n",
       "1  7.5525  7.6250  7.920  8.1150  6.8700  7.0800  6.0425  \n",
       "2  6.7200  7.1100  6.420  0.0000  6.3750  7.3500  7.7575  \n",
       "3  8.6925  0.0000  6.645  7.2725  7.4825  6.1650  7.5950  \n",
       "4  8.8100  6.8275  9.360  7.4550  6.0250  7.2525  6.6725  \n",
       "\n",
       "[5 rows x 66 columns]"
      ]
     },
     "execution_count": 19,
     "metadata": {},
     "output_type": "execute_result"
    }
   ],
   "source": [
    "df_bowl.head()"
   ]
  },
  {
   "cell_type": "code",
   "execution_count": 4,
   "metadata": {},
   "outputs": [],
   "source": [
    "p=np.arange(66)\n",
    "pba=p[:22]\n",
    "pbs=p[22:44]\n",
    "pbe=p[44:66]"
   ]
  },
  {
   "cell_type": "code",
   "execution_count": 5,
   "metadata": {},
   "outputs": [],
   "source": [
    "pba=pba.reshape([2,11])"
   ]
  },
  {
   "cell_type": "code",
   "execution_count": 6,
   "metadata": {},
   "outputs": [],
   "source": [
    "pbs=pbs.reshape([2,11])"
   ]
  },
  {
   "cell_type": "code",
   "execution_count": 7,
   "metadata": {},
   "outputs": [],
   "source": [
    "pbe=pbe.reshape([2,11])"
   ]
  },
  {
   "cell_type": "code",
   "execution_count": null,
   "metadata": {},
   "outputs": [],
   "source": []
  },
  {
   "cell_type": "code",
   "execution_count": 8,
   "metadata": {},
   "outputs": [
    {
     "data": {
      "text/plain": [
       "(2, 11)"
      ]
     },
     "execution_count": 8,
     "metadata": {},
     "output_type": "execute_result"
    }
   ],
   "source": [
    "pba.shape"
   ]
  },
  {
   "cell_type": "code",
   "execution_count": null,
   "metadata": {},
   "outputs": [],
   "source": []
  },
  {
   "cell_type": "code",
   "execution_count": 9,
   "metadata": {},
   "outputs": [
    {
     "data": {
      "text/plain": [
       "[array([ 0,  1,  2,  3,  4,  5,  6,  7,  8,  9, 10, 11, 12, 13, 14, 15, 16,\n",
       "        17, 18, 19, 20, 21, 22, 23, 24, 25, 26, 27, 28, 29, 30, 31, 32, 33,\n",
       "        34, 35, 36, 37, 38, 39, 40, 41, 42, 43, 44, 45, 46, 47, 48, 49, 50,\n",
       "        51, 52, 53, 54, 55, 56, 57, 58, 59, 60, 61, 62, 63, 64, 65])]"
      ]
     },
     "execution_count": 9,
     "metadata": {},
     "output_type": "execute_result"
    }
   ],
   "source": [
    "\n",
    "x=np.hstack(pba)\n",
    "y=np.hstack(pbs)\n",
    "z=np.hstack(pbe)\n",
    "xyz=[np.hstack([x,y,z])]\n",
    "xyz"
   ]
  },
  {
   "cell_type": "code",
   "execution_count": 20,
   "metadata": {},
   "outputs": [],
   "source": [
    "t=df_bowl.values[0]"
   ]
  },
  {
   "cell_type": "code",
   "execution_count": 21,
   "metadata": {},
   "outputs": [],
   "source": [
    "p=t\n",
    "pba=p[:22]\n",
    "pbs=p[22:44]\n",
    "pbe=p[44:66]\n",
    "pba=pba.reshape([2,11])\n",
    "pbs=pbs.reshape([2,11])\n",
    "pbe=pbe.reshape([2,11])\n"
   ]
  },
  {
   "cell_type": "code",
   "execution_count": 22,
   "metadata": {},
   "outputs": [
    {
     "data": {
      "text/plain": [
       "array([[70.16666667,  0.        , 85.25      , 24.10166667, 37.45      ,\n",
       "         0.        , 22.92      , 15.94166667, 21.67333333, 22.88833333,\n",
       "        19.42      ],\n",
       "       [25.90666667,  0.        , 22.41333333, 24.58166667, 23.46333333,\n",
       "        18.41333333,  0.        , 22.885     , 16.695     , 18.86      ,\n",
       "        34.65      ]])"
      ]
     },
     "execution_count": 22,
     "metadata": {},
     "output_type": "execute_result"
    }
   ],
   "source": [
    "pba"
   ]
  },
  {
   "cell_type": "code",
   "execution_count": 23,
   "metadata": {},
   "outputs": [
    {
     "data": {
      "text/plain": [
       "array([[79.46666667,  0.        , 76.98333333, 24.46666667, 34.23333333,\n",
       "         0.        , 31.        , 19.86666667, 21.85      , 22.25      ,\n",
       "        28.33333333],\n",
       "       [31.93333333,  0.        , 29.06666667, 25.7       , 27.56666667,\n",
       "        24.8       ,  0.        , 21.06666667, 16.31666667, 25.73333333,\n",
       "        28.25      ]])"
      ]
     },
     "execution_count": 23,
     "metadata": {},
     "output_type": "execute_result"
    }
   ],
   "source": [
    "pbs"
   ]
  },
  {
   "cell_type": "code",
   "execution_count": 24,
   "metadata": {},
   "outputs": [
    {
     "data": {
      "text/plain": [
       "array([[7.935 , 0.    , 8.6925, 7.155 , 7.69  , 0.    , 6.645 , 6.135 ,\n",
       "        7.2725, 7.4825, 6.165 ],\n",
       "       [7.29  , 0.    , 6.93  , 7.2075, 6.44  , 6.675 , 0.    , 7.75  ,\n",
       "        7.935 , 6.6675, 8.29  ]])"
      ]
     },
     "execution_count": 24,
     "metadata": {},
     "output_type": "execute_result"
    }
   ],
   "source": [
    "pbe"
   ]
  },
  {
   "cell_type": "code",
   "execution_count": null,
   "metadata": {},
   "outputs": [],
   "source": []
  }
 ],
 "metadata": {
  "kernelspec": {
   "display_name": "Python 3",
   "language": "python",
   "name": "python3"
  },
  "language_info": {
   "codemirror_mode": {
    "name": "ipython",
    "version": 3
   },
   "file_extension": ".py",
   "mimetype": "text/x-python",
   "name": "python",
   "nbconvert_exporter": "python",
   "pygments_lexer": "ipython3",
   "version": "3.6.8"
  }
 },
 "nbformat": 4,
 "nbformat_minor": 2
}
