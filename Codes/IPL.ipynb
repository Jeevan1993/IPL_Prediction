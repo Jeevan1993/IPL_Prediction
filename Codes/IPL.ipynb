{
 "cells": [
  {
   "cell_type": "code",
   "execution_count": 1,
   "metadata": {},
   "outputs": [],
   "source": [
    "import pandas as pd\n",
    "import numpy as np"
   ]
  },
  {
   "cell_type": "code",
   "execution_count": 2,
   "metadata": {},
   "outputs": [],
   "source": [
    "df_bowl=pd.read_csv(\"/home/jeevan/Desktop/IPL/Bowling data/bowl.csv\")\n",
    "df_bat=pd.read_csv(\"/home/jeevan/Desktop/IPL/Batting data/bat.csv\")\n",
    "match_no=np.load(\"IPL_2008-2019_match_ids.npy\")\n",
    "matches=pd.read_csv(\"/home/jeevan/Desktop/IPL/ipldata/matches.csv\")"
   ]
  },
  {
   "cell_type": "code",
   "execution_count": 3,
   "metadata": {},
   "outputs": [],
   "source": [
    "df = pd.DataFrame(columns=['t1_5bo_a', 't1_4bo_a', 't1_3bo_a'])"
   ]
  },
  {
   "cell_type": "code",
   "execution_count": 4,
   "metadata": {},
   "outputs": [
    {
     "data": {
      "text/html": [
       "<div>\n",
       "<style scoped>\n",
       "    .dataframe tbody tr th:only-of-type {\n",
       "        vertical-align: middle;\n",
       "    }\n",
       "\n",
       "    .dataframe tbody tr th {\n",
       "        vertical-align: top;\n",
       "    }\n",
       "\n",
       "    .dataframe thead th {\n",
       "        text-align: right;\n",
       "    }\n",
       "</style>\n",
       "<table border=\"1\" class=\"dataframe\">\n",
       "  <thead>\n",
       "    <tr style=\"text-align: right;\">\n",
       "      <th></th>\n",
       "      <th>id</th>\n",
       "      <th>season</th>\n",
       "      <th>city</th>\n",
       "      <th>date</th>\n",
       "      <th>team1</th>\n",
       "      <th>team2</th>\n",
       "      <th>toss_winner</th>\n",
       "      <th>toss_decision</th>\n",
       "      <th>result</th>\n",
       "      <th>dl_applied</th>\n",
       "      <th>winner</th>\n",
       "      <th>win_by_runs</th>\n",
       "      <th>win_by_wickets</th>\n",
       "      <th>player_of_match</th>\n",
       "      <th>venue</th>\n",
       "      <th>umpire1</th>\n",
       "      <th>umpire2</th>\n",
       "      <th>umpire3</th>\n",
       "    </tr>\n",
       "  </thead>\n",
       "  <tbody>\n",
       "    <tr>\n",
       "      <th>0</th>\n",
       "      <td>1</td>\n",
       "      <td>2017</td>\n",
       "      <td>Hyderabad</td>\n",
       "      <td>2017-04-05</td>\n",
       "      <td>Sunrisers Hyderabad</td>\n",
       "      <td>Royal Challengers Bangalore</td>\n",
       "      <td>Royal Challengers Bangalore</td>\n",
       "      <td>field</td>\n",
       "      <td>normal</td>\n",
       "      <td>0</td>\n",
       "      <td>Sunrisers Hyderabad</td>\n",
       "      <td>35</td>\n",
       "      <td>0</td>\n",
       "      <td>Yuvraj Singh</td>\n",
       "      <td>Rajiv Gandhi International Stadium, Uppal</td>\n",
       "      <td>AY Dandekar</td>\n",
       "      <td>NJ Llong</td>\n",
       "      <td>NaN</td>\n",
       "    </tr>\n",
       "    <tr>\n",
       "      <th>1</th>\n",
       "      <td>2</td>\n",
       "      <td>2017</td>\n",
       "      <td>Pune</td>\n",
       "      <td>2017-04-06</td>\n",
       "      <td>Mumbai Indians</td>\n",
       "      <td>Rising Pune Supergiant</td>\n",
       "      <td>Rising Pune Supergiant</td>\n",
       "      <td>field</td>\n",
       "      <td>normal</td>\n",
       "      <td>0</td>\n",
       "      <td>Rising Pune Supergiant</td>\n",
       "      <td>0</td>\n",
       "      <td>7</td>\n",
       "      <td>SPD Smith</td>\n",
       "      <td>Maharashtra Cricket Association Stadium</td>\n",
       "      <td>A Nand Kishore</td>\n",
       "      <td>S Ravi</td>\n",
       "      <td>NaN</td>\n",
       "    </tr>\n",
       "    <tr>\n",
       "      <th>2</th>\n",
       "      <td>3</td>\n",
       "      <td>2017</td>\n",
       "      <td>Rajkot</td>\n",
       "      <td>2017-04-07</td>\n",
       "      <td>Gujarat Lions</td>\n",
       "      <td>Kolkata Knight Riders</td>\n",
       "      <td>Kolkata Knight Riders</td>\n",
       "      <td>field</td>\n",
       "      <td>normal</td>\n",
       "      <td>0</td>\n",
       "      <td>Kolkata Knight Riders</td>\n",
       "      <td>0</td>\n",
       "      <td>10</td>\n",
       "      <td>CA Lynn</td>\n",
       "      <td>Saurashtra Cricket Association Stadium</td>\n",
       "      <td>Nitin Menon</td>\n",
       "      <td>CK Nandan</td>\n",
       "      <td>NaN</td>\n",
       "    </tr>\n",
       "    <tr>\n",
       "      <th>3</th>\n",
       "      <td>4</td>\n",
       "      <td>2017</td>\n",
       "      <td>Indore</td>\n",
       "      <td>2017-04-08</td>\n",
       "      <td>Rising Pune Supergiant</td>\n",
       "      <td>Kings XI Punjab</td>\n",
       "      <td>Kings XI Punjab</td>\n",
       "      <td>field</td>\n",
       "      <td>normal</td>\n",
       "      <td>0</td>\n",
       "      <td>Kings XI Punjab</td>\n",
       "      <td>0</td>\n",
       "      <td>6</td>\n",
       "      <td>GJ Maxwell</td>\n",
       "      <td>Holkar Cricket Stadium</td>\n",
       "      <td>AK Chaudhary</td>\n",
       "      <td>C Shamshuddin</td>\n",
       "      <td>NaN</td>\n",
       "    </tr>\n",
       "    <tr>\n",
       "      <th>4</th>\n",
       "      <td>5</td>\n",
       "      <td>2017</td>\n",
       "      <td>Bangalore</td>\n",
       "      <td>2017-04-08</td>\n",
       "      <td>Royal Challengers Bangalore</td>\n",
       "      <td>Delhi Daredevils</td>\n",
       "      <td>Royal Challengers Bangalore</td>\n",
       "      <td>bat</td>\n",
       "      <td>normal</td>\n",
       "      <td>0</td>\n",
       "      <td>Royal Challengers Bangalore</td>\n",
       "      <td>15</td>\n",
       "      <td>0</td>\n",
       "      <td>KM Jadhav</td>\n",
       "      <td>M Chinnaswamy Stadium</td>\n",
       "      <td>NaN</td>\n",
       "      <td>NaN</td>\n",
       "      <td>NaN</td>\n",
       "    </tr>\n",
       "  </tbody>\n",
       "</table>\n",
       "</div>"
      ],
      "text/plain": [
       "   id  season       city        date                        team1  \\\n",
       "0   1    2017  Hyderabad  2017-04-05          Sunrisers Hyderabad   \n",
       "1   2    2017       Pune  2017-04-06               Mumbai Indians   \n",
       "2   3    2017     Rajkot  2017-04-07                Gujarat Lions   \n",
       "3   4    2017     Indore  2017-04-08       Rising Pune Supergiant   \n",
       "4   5    2017  Bangalore  2017-04-08  Royal Challengers Bangalore   \n",
       "\n",
       "                         team2                  toss_winner toss_decision  \\\n",
       "0  Royal Challengers Bangalore  Royal Challengers Bangalore         field   \n",
       "1       Rising Pune Supergiant       Rising Pune Supergiant         field   \n",
       "2        Kolkata Knight Riders        Kolkata Knight Riders         field   \n",
       "3              Kings XI Punjab              Kings XI Punjab         field   \n",
       "4             Delhi Daredevils  Royal Challengers Bangalore           bat   \n",
       "\n",
       "   result  dl_applied                       winner  win_by_runs  \\\n",
       "0  normal           0          Sunrisers Hyderabad           35   \n",
       "1  normal           0       Rising Pune Supergiant            0   \n",
       "2  normal           0        Kolkata Knight Riders            0   \n",
       "3  normal           0              Kings XI Punjab            0   \n",
       "4  normal           0  Royal Challengers Bangalore           15   \n",
       "\n",
       "   win_by_wickets player_of_match                                      venue  \\\n",
       "0               0    Yuvraj Singh  Rajiv Gandhi International Stadium, Uppal   \n",
       "1               7       SPD Smith    Maharashtra Cricket Association Stadium   \n",
       "2              10         CA Lynn     Saurashtra Cricket Association Stadium   \n",
       "3               6      GJ Maxwell                     Holkar Cricket Stadium   \n",
       "4               0       KM Jadhav                      M Chinnaswamy Stadium   \n",
       "\n",
       "          umpire1        umpire2 umpire3  \n",
       "0     AY Dandekar       NJ Llong     NaN  \n",
       "1  A Nand Kishore         S Ravi     NaN  \n",
       "2     Nitin Menon      CK Nandan     NaN  \n",
       "3    AK Chaudhary  C Shamshuddin     NaN  \n",
       "4             NaN            NaN     NaN  "
      ]
     },
     "execution_count": 4,
     "metadata": {},
     "output_type": "execute_result"
    }
   ],
   "source": [
    "matches.head()"
   ]
  },
  {
   "cell_type": "code",
   "execution_count": 5,
   "metadata": {},
   "outputs": [
    {
     "data": {
      "text/plain": [
       "Index(['id', 'season', 'city', 'date', 'team1', 'team2', 'toss_winner',\n",
       "       'toss_decision', 'result', 'dl_applied', 'winner', 'win_by_runs',\n",
       "       'win_by_wickets', 'player_of_match', 'venue', 'umpire1', 'umpire2',\n",
       "       'umpire3'],\n",
       "      dtype='object')"
      ]
     },
     "execution_count": 5,
     "metadata": {},
     "output_type": "execute_result"
    }
   ],
   "source": [
    "matches.keys()"
   ]
  },
  {
   "cell_type": "code",
   "execution_count": 6,
   "metadata": {},
   "outputs": [
    {
     "data": {
      "text/plain": [
       "array(['Sunrisers Hyderabad', 'Mumbai Indians', 'Gujarat Lions',\n",
       "       'Rising Pune Supergiant', 'Royal Challengers Bangalore',\n",
       "       'Kolkata Knight Riders', 'Delhi Daredevils', 'Kings XI Punjab',\n",
       "       'Chennai Super Kings', 'Rajasthan Royals', 'Deccan Chargers',\n",
       "       'Kochi Tuskers Kerala', 'Pune Warriors', 'Rising Pune Supergiants',\n",
       "       'Delhi Capitals'], dtype=object)"
      ]
     },
     "execution_count": 6,
     "metadata": {},
     "output_type": "execute_result"
    }
   ],
   "source": [
    "(matches[\"team1\"].unique())"
   ]
  },
  {
   "cell_type": "markdown",
   "metadata": {},
   "source": [
    "We have 15 teams participating in the IPL, But not all are regular. \n",
    "We now remove tied matches and no result matches as they do not contribute to the output prediction.\n",
    "\n",
    "Also, we have 3 dataset: Matches, Batsman, Bowlers\n",
    "From this we construct 2 different model classes.\n",
    "1)Team data only\n",
    "2)Player and Team data"
   ]
  },
  {
   "cell_type": "code",
   "execution_count": 7,
   "metadata": {},
   "outputs": [
    {
     "data": {
      "text/html": [
       "<div>\n",
       "<style scoped>\n",
       "    .dataframe tbody tr th:only-of-type {\n",
       "        vertical-align: middle;\n",
       "    }\n",
       "\n",
       "    .dataframe tbody tr th {\n",
       "        vertical-align: top;\n",
       "    }\n",
       "\n",
       "    .dataframe thead th {\n",
       "        text-align: right;\n",
       "    }\n",
       "</style>\n",
       "<table border=\"1\" class=\"dataframe\">\n",
       "  <thead>\n",
       "    <tr style=\"text-align: right;\">\n",
       "      <th></th>\n",
       "      <th>id</th>\n",
       "      <th>season</th>\n",
       "      <th>city</th>\n",
       "      <th>date</th>\n",
       "      <th>team1</th>\n",
       "      <th>team2</th>\n",
       "      <th>toss_winner</th>\n",
       "      <th>toss_decision</th>\n",
       "      <th>result</th>\n",
       "      <th>dl_applied</th>\n",
       "      <th>winner</th>\n",
       "      <th>win_by_runs</th>\n",
       "      <th>win_by_wickets</th>\n",
       "      <th>player_of_match</th>\n",
       "      <th>venue</th>\n",
       "      <th>umpire1</th>\n",
       "      <th>umpire2</th>\n",
       "      <th>umpire3</th>\n",
       "    </tr>\n",
       "  </thead>\n",
       "  <tbody>\n",
       "    <tr>\n",
       "      <th>300</th>\n",
       "      <td>301</td>\n",
       "      <td>2011</td>\n",
       "      <td>Delhi</td>\n",
       "      <td>2011-05-21</td>\n",
       "      <td>Delhi Daredevils</td>\n",
       "      <td>Pune Warriors</td>\n",
       "      <td>Delhi Daredevils</td>\n",
       "      <td>bat</td>\n",
       "      <td>no result</td>\n",
       "      <td>0</td>\n",
       "      <td>NaN</td>\n",
       "      <td>0</td>\n",
       "      <td>0</td>\n",
       "      <td>NaN</td>\n",
       "      <td>Feroz Shah Kotla</td>\n",
       "      <td>SS Hazare</td>\n",
       "      <td>RJ Tucker</td>\n",
       "      <td>NaN</td>\n",
       "    </tr>\n",
       "    <tr>\n",
       "      <th>545</th>\n",
       "      <td>546</td>\n",
       "      <td>2015</td>\n",
       "      <td>Bangalore</td>\n",
       "      <td>2015-04-29</td>\n",
       "      <td>Royal Challengers Bangalore</td>\n",
       "      <td>Rajasthan Royals</td>\n",
       "      <td>Rajasthan Royals</td>\n",
       "      <td>field</td>\n",
       "      <td>no result</td>\n",
       "      <td>0</td>\n",
       "      <td>NaN</td>\n",
       "      <td>0</td>\n",
       "      <td>0</td>\n",
       "      <td>NaN</td>\n",
       "      <td>M Chinnaswamy Stadium</td>\n",
       "      <td>JD Cloete</td>\n",
       "      <td>PG Pathak</td>\n",
       "      <td>NaN</td>\n",
       "    </tr>\n",
       "    <tr>\n",
       "      <th>570</th>\n",
       "      <td>571</td>\n",
       "      <td>2015</td>\n",
       "      <td>Bangalore</td>\n",
       "      <td>2015-05-17</td>\n",
       "      <td>Delhi Daredevils</td>\n",
       "      <td>Royal Challengers Bangalore</td>\n",
       "      <td>Royal Challengers Bangalore</td>\n",
       "      <td>field</td>\n",
       "      <td>no result</td>\n",
       "      <td>0</td>\n",
       "      <td>NaN</td>\n",
       "      <td>0</td>\n",
       "      <td>0</td>\n",
       "      <td>NaN</td>\n",
       "      <td>M Chinnaswamy Stadium</td>\n",
       "      <td>HDPK Dharmasena</td>\n",
       "      <td>K Srinivasan</td>\n",
       "      <td>NaN</td>\n",
       "    </tr>\n",
       "    <tr>\n",
       "      <th>744</th>\n",
       "      <td>11340</td>\n",
       "      <td>2019</td>\n",
       "      <td>Bengaluru</td>\n",
       "      <td>30/04/19</td>\n",
       "      <td>Royal Challengers Bangalore</td>\n",
       "      <td>Rajasthan Royals</td>\n",
       "      <td>Rajasthan Royals</td>\n",
       "      <td>field</td>\n",
       "      <td>no result</td>\n",
       "      <td>0</td>\n",
       "      <td>NaN</td>\n",
       "      <td>0</td>\n",
       "      <td>0</td>\n",
       "      <td>NaN</td>\n",
       "      <td>M. Chinnaswamy Stadium</td>\n",
       "      <td>Nigel Llong</td>\n",
       "      <td>Ulhas Gandhe</td>\n",
       "      <td>Anil Chaudhary</td>\n",
       "    </tr>\n",
       "  </tbody>\n",
       "</table>\n",
       "</div>"
      ],
      "text/plain": [
       "        id  season       city        date                        team1  \\\n",
       "300    301    2011      Delhi  2011-05-21             Delhi Daredevils   \n",
       "545    546    2015  Bangalore  2015-04-29  Royal Challengers Bangalore   \n",
       "570    571    2015  Bangalore  2015-05-17             Delhi Daredevils   \n",
       "744  11340    2019  Bengaluru    30/04/19  Royal Challengers Bangalore   \n",
       "\n",
       "                           team2                  toss_winner toss_decision  \\\n",
       "300                Pune Warriors             Delhi Daredevils           bat   \n",
       "545             Rajasthan Royals             Rajasthan Royals         field   \n",
       "570  Royal Challengers Bangalore  Royal Challengers Bangalore         field   \n",
       "744             Rajasthan Royals             Rajasthan Royals         field   \n",
       "\n",
       "        result  dl_applied winner  win_by_runs  win_by_wickets  \\\n",
       "300  no result           0    NaN            0               0   \n",
       "545  no result           0    NaN            0               0   \n",
       "570  no result           0    NaN            0               0   \n",
       "744  no result           0    NaN            0               0   \n",
       "\n",
       "    player_of_match                   venue          umpire1       umpire2  \\\n",
       "300             NaN        Feroz Shah Kotla        SS Hazare     RJ Tucker   \n",
       "545             NaN   M Chinnaswamy Stadium        JD Cloete     PG Pathak   \n",
       "570             NaN   M Chinnaswamy Stadium  HDPK Dharmasena  K Srinivasan   \n",
       "744             NaN  M. Chinnaswamy Stadium      Nigel Llong  Ulhas Gandhe   \n",
       "\n",
       "            umpire3  \n",
       "300             NaN  \n",
       "545             NaN  \n",
       "570             NaN  \n",
       "744  Anil Chaudhary  "
      ]
     },
     "execution_count": 7,
     "metadata": {},
     "output_type": "execute_result"
    }
   ],
   "source": [
    "matches[pd.isnull(matches['winner'])]"
   ]
  },
  {
   "cell_type": "code",
   "execution_count": 8,
   "metadata": {},
   "outputs": [],
   "source": [
    "matches['winner'].fillna('Draw', inplace=True)"
   ]
  },
  {
   "cell_type": "code",
   "execution_count": 9,
   "metadata": {},
   "outputs": [
    {
     "data": {
      "text/html": [
       "<div>\n",
       "<style scoped>\n",
       "    .dataframe tbody tr th:only-of-type {\n",
       "        vertical-align: middle;\n",
       "    }\n",
       "\n",
       "    .dataframe tbody tr th {\n",
       "        vertical-align: top;\n",
       "    }\n",
       "\n",
       "    .dataframe thead th {\n",
       "        text-align: right;\n",
       "    }\n",
       "</style>\n",
       "<table border=\"1\" class=\"dataframe\">\n",
       "  <thead>\n",
       "    <tr style=\"text-align: right;\">\n",
       "      <th></th>\n",
       "      <th>id</th>\n",
       "      <th>season</th>\n",
       "      <th>city</th>\n",
       "      <th>date</th>\n",
       "      <th>team1</th>\n",
       "      <th>team2</th>\n",
       "      <th>toss_winner</th>\n",
       "      <th>toss_decision</th>\n",
       "      <th>result</th>\n",
       "      <th>dl_applied</th>\n",
       "      <th>winner</th>\n",
       "      <th>win_by_runs</th>\n",
       "      <th>win_by_wickets</th>\n",
       "      <th>player_of_match</th>\n",
       "      <th>venue</th>\n",
       "      <th>umpire1</th>\n",
       "      <th>umpire2</th>\n",
       "      <th>umpire3</th>\n",
       "    </tr>\n",
       "  </thead>\n",
       "  <tbody>\n",
       "    <tr>\n",
       "      <th>0</th>\n",
       "      <td>1</td>\n",
       "      <td>2017</td>\n",
       "      <td>Hyderabad</td>\n",
       "      <td>2017-04-05</td>\n",
       "      <td>10</td>\n",
       "      <td>3</td>\n",
       "      <td>3</td>\n",
       "      <td>field</td>\n",
       "      <td>normal</td>\n",
       "      <td>0</td>\n",
       "      <td>10</td>\n",
       "      <td>35</td>\n",
       "      <td>0</td>\n",
       "      <td>Yuvraj Singh</td>\n",
       "      <td>Rajiv Gandhi International Stadium, Uppal</td>\n",
       "      <td>AY Dandekar</td>\n",
       "      <td>NJ Llong</td>\n",
       "      <td>NaN</td>\n",
       "    </tr>\n",
       "    <tr>\n",
       "      <th>1</th>\n",
       "      <td>2</td>\n",
       "      <td>2017</td>\n",
       "      <td>Pune</td>\n",
       "      <td>2017-04-06</td>\n",
       "      <td>1</td>\n",
       "      <td>11</td>\n",
       "      <td>11</td>\n",
       "      <td>field</td>\n",
       "      <td>normal</td>\n",
       "      <td>0</td>\n",
       "      <td>11</td>\n",
       "      <td>0</td>\n",
       "      <td>7</td>\n",
       "      <td>SPD Smith</td>\n",
       "      <td>Maharashtra Cricket Association Stadium</td>\n",
       "      <td>A Nand Kishore</td>\n",
       "      <td>S Ravi</td>\n",
       "      <td>NaN</td>\n",
       "    </tr>\n",
       "  </tbody>\n",
       "</table>\n",
       "</div>"
      ],
      "text/plain": [
       "   id  season       city        date  team1  team2  toss_winner toss_decision  \\\n",
       "0   1    2017  Hyderabad  2017-04-05     10      3            3         field   \n",
       "1   2    2017       Pune  2017-04-06      1     11           11         field   \n",
       "\n",
       "   result  dl_applied  winner  win_by_runs  win_by_wickets player_of_match  \\\n",
       "0  normal           0      10           35               0    Yuvraj Singh   \n",
       "1  normal           0      11            0               7       SPD Smith   \n",
       "\n",
       "                                       venue         umpire1   umpire2 umpire3  \n",
       "0  Rajiv Gandhi International Stadium, Uppal     AY Dandekar  NJ Llong     NaN  \n",
       "1    Maharashtra Cricket Association Stadium  A Nand Kishore    S Ravi     NaN  "
      ]
     },
     "execution_count": 9,
     "metadata": {},
     "output_type": "execute_result"
    }
   ],
   "source": [
    "matches.replace(['Mumbai Indians','Kolkata Knight Riders','Royal Challengers Bangalore','Deccan Chargers','Chennai Super Kings',\n",
    "                 'Rajasthan Royals','Delhi Daredevils','Delhi Capitals','Gujarat Lions','Kings XI Punjab',\n",
    "                 'Sunrisers Hyderabad','Rising Pune Supergiants','Rising Pune Supergiant','Kochi Tuskers Kerala','Pune Warriors']\n",
    "                ,['MI','KKR','RCB','DC','CSK','RR','DD','DD','GL','KXIP','SRH','RPS','RPS','KTK','PW'],inplace=True)\n",
    "\n",
    "encode = {'team1': {'MI':1,'KKR':2,'RCB':3,'DC':4,'CSK':5,'RR':6,'DD':7,'GL':8,'KXIP':9,'SRH':10,'RPS':11,'KTK':12,'PW':13},\n",
    "          'team2': {'MI':1,'KKR':2,'RCB':3,'DC':4,'CSK':5,'RR':6,'DD':7,'GL':8,'KXIP':9,'SRH':10,'RPS':11,'KTK':12,'PW':13},\n",
    "          'toss_winner': {'MI':1,'KKR':2,'RCB':3,'DC':4,'CSK':5,'RR':6,'DD':7,'GL':8,'KXIP':9,'SRH':10,'RPS':11,'KTK':12,'PW':13},\n",
    "          'winner': {'MI':1,'KKR':2,'RCB':3,'DC':4,'CSK':5,'RR':6,'DD':7,'GL':8,'KXIP':9,'SRH':10,'RPS':11,'KTK':12,'PW':13,'Draw':14}}\n",
    "matches.replace(encode, inplace=True)\n",
    "matches.head(2)"
   ]
  },
  {
   "cell_type": "code",
   "execution_count": 10,
   "metadata": {},
   "outputs": [
    {
     "data": {
      "text/plain": [
       "array([10,  1,  8, 11,  3,  2,  7,  9,  5,  6,  4, 12, 13])"
      ]
     },
     "execution_count": 10,
     "metadata": {},
     "output_type": "execute_result"
    }
   ],
   "source": [
    "(matches[\"team1\"].unique())"
   ]
  },
  {
   "cell_type": "code",
   "execution_count": 11,
   "metadata": {},
   "outputs": [
    {
     "data": {
      "text/html": [
       "<div>\n",
       "<style scoped>\n",
       "    .dataframe tbody tr th:only-of-type {\n",
       "        vertical-align: middle;\n",
       "    }\n",
       "\n",
       "    .dataframe tbody tr th {\n",
       "        vertical-align: top;\n",
       "    }\n",
       "\n",
       "    .dataframe thead th {\n",
       "        text-align: right;\n",
       "    }\n",
       "</style>\n",
       "<table border=\"1\" class=\"dataframe\">\n",
       "  <thead>\n",
       "    <tr style=\"text-align: right;\">\n",
       "      <th></th>\n",
       "      <th>id</th>\n",
       "      <th>season</th>\n",
       "      <th>city</th>\n",
       "      <th>date</th>\n",
       "      <th>team1</th>\n",
       "      <th>team2</th>\n",
       "      <th>toss_winner</th>\n",
       "      <th>toss_decision</th>\n",
       "      <th>result</th>\n",
       "      <th>dl_applied</th>\n",
       "      <th>winner</th>\n",
       "      <th>win_by_runs</th>\n",
       "      <th>win_by_wickets</th>\n",
       "      <th>player_of_match</th>\n",
       "      <th>venue</th>\n",
       "      <th>umpire1</th>\n",
       "      <th>umpire2</th>\n",
       "      <th>umpire3</th>\n",
       "    </tr>\n",
       "  </thead>\n",
       "  <tbody>\n",
       "    <tr>\n",
       "      <th>461</th>\n",
       "      <td>462</td>\n",
       "      <td>2014</td>\n",
       "      <td>NaN</td>\n",
       "      <td>2014-04-19</td>\n",
       "      <td>1</td>\n",
       "      <td>3</td>\n",
       "      <td>3</td>\n",
       "      <td>field</td>\n",
       "      <td>normal</td>\n",
       "      <td>0</td>\n",
       "      <td>3</td>\n",
       "      <td>0</td>\n",
       "      <td>7</td>\n",
       "      <td>PA Patel</td>\n",
       "      <td>Dubai International Cricket Stadium</td>\n",
       "      <td>Aleem Dar</td>\n",
       "      <td>AK Chaudhary</td>\n",
       "      <td>NaN</td>\n",
       "    </tr>\n",
       "    <tr>\n",
       "      <th>462</th>\n",
       "      <td>463</td>\n",
       "      <td>2014</td>\n",
       "      <td>NaN</td>\n",
       "      <td>2014-04-19</td>\n",
       "      <td>2</td>\n",
       "      <td>7</td>\n",
       "      <td>2</td>\n",
       "      <td>bat</td>\n",
       "      <td>normal</td>\n",
       "      <td>0</td>\n",
       "      <td>7</td>\n",
       "      <td>0</td>\n",
       "      <td>4</td>\n",
       "      <td>JP Duminy</td>\n",
       "      <td>Dubai International Cricket Stadium</td>\n",
       "      <td>Aleem Dar</td>\n",
       "      <td>VA Kulkarni</td>\n",
       "      <td>NaN</td>\n",
       "    </tr>\n",
       "    <tr>\n",
       "      <th>466</th>\n",
       "      <td>467</td>\n",
       "      <td>2014</td>\n",
       "      <td>NaN</td>\n",
       "      <td>2014-04-23</td>\n",
       "      <td>5</td>\n",
       "      <td>6</td>\n",
       "      <td>6</td>\n",
       "      <td>field</td>\n",
       "      <td>normal</td>\n",
       "      <td>0</td>\n",
       "      <td>5</td>\n",
       "      <td>7</td>\n",
       "      <td>0</td>\n",
       "      <td>RA Jadeja</td>\n",
       "      <td>Dubai International Cricket Stadium</td>\n",
       "      <td>HDPK Dharmasena</td>\n",
       "      <td>RK Illingworth</td>\n",
       "      <td>NaN</td>\n",
       "    </tr>\n",
       "    <tr>\n",
       "      <th>468</th>\n",
       "      <td>469</td>\n",
       "      <td>2014</td>\n",
       "      <td>NaN</td>\n",
       "      <td>2014-04-25</td>\n",
       "      <td>10</td>\n",
       "      <td>7</td>\n",
       "      <td>10</td>\n",
       "      <td>bat</td>\n",
       "      <td>normal</td>\n",
       "      <td>0</td>\n",
       "      <td>10</td>\n",
       "      <td>4</td>\n",
       "      <td>0</td>\n",
       "      <td>AJ Finch</td>\n",
       "      <td>Dubai International Cricket Stadium</td>\n",
       "      <td>M Erasmus</td>\n",
       "      <td>S Ravi</td>\n",
       "      <td>NaN</td>\n",
       "    </tr>\n",
       "    <tr>\n",
       "      <th>469</th>\n",
       "      <td>470</td>\n",
       "      <td>2014</td>\n",
       "      <td>NaN</td>\n",
       "      <td>2014-04-25</td>\n",
       "      <td>1</td>\n",
       "      <td>5</td>\n",
       "      <td>1</td>\n",
       "      <td>bat</td>\n",
       "      <td>normal</td>\n",
       "      <td>0</td>\n",
       "      <td>5</td>\n",
       "      <td>0</td>\n",
       "      <td>7</td>\n",
       "      <td>MM Sharma</td>\n",
       "      <td>Dubai International Cricket Stadium</td>\n",
       "      <td>BF Bowden</td>\n",
       "      <td>M Erasmus</td>\n",
       "      <td>NaN</td>\n",
       "    </tr>\n",
       "    <tr>\n",
       "      <th>474</th>\n",
       "      <td>475</td>\n",
       "      <td>2014</td>\n",
       "      <td>NaN</td>\n",
       "      <td>2014-04-28</td>\n",
       "      <td>3</td>\n",
       "      <td>9</td>\n",
       "      <td>9</td>\n",
       "      <td>field</td>\n",
       "      <td>normal</td>\n",
       "      <td>0</td>\n",
       "      <td>9</td>\n",
       "      <td>0</td>\n",
       "      <td>5</td>\n",
       "      <td>Sandeep Sharma</td>\n",
       "      <td>Dubai International Cricket Stadium</td>\n",
       "      <td>BF Bowden</td>\n",
       "      <td>S Ravi</td>\n",
       "      <td>NaN</td>\n",
       "    </tr>\n",
       "    <tr>\n",
       "      <th>476</th>\n",
       "      <td>477</td>\n",
       "      <td>2014</td>\n",
       "      <td>NaN</td>\n",
       "      <td>2014-04-30</td>\n",
       "      <td>10</td>\n",
       "      <td>1</td>\n",
       "      <td>1</td>\n",
       "      <td>field</td>\n",
       "      <td>normal</td>\n",
       "      <td>0</td>\n",
       "      <td>10</td>\n",
       "      <td>15</td>\n",
       "      <td>0</td>\n",
       "      <td>B Kumar</td>\n",
       "      <td>Dubai International Cricket Stadium</td>\n",
       "      <td>HDPK Dharmasena</td>\n",
       "      <td>M Erasmus</td>\n",
       "      <td>NaN</td>\n",
       "    </tr>\n",
       "  </tbody>\n",
       "</table>\n",
       "</div>"
      ],
      "text/plain": [
       "      id  season city        date  team1  team2  toss_winner toss_decision  \\\n",
       "461  462    2014  NaN  2014-04-19      1      3            3         field   \n",
       "462  463    2014  NaN  2014-04-19      2      7            2           bat   \n",
       "466  467    2014  NaN  2014-04-23      5      6            6         field   \n",
       "468  469    2014  NaN  2014-04-25     10      7           10           bat   \n",
       "469  470    2014  NaN  2014-04-25      1      5            1           bat   \n",
       "474  475    2014  NaN  2014-04-28      3      9            9         field   \n",
       "476  477    2014  NaN  2014-04-30     10      1            1         field   \n",
       "\n",
       "     result  dl_applied  winner  win_by_runs  win_by_wickets player_of_match  \\\n",
       "461  normal           0       3            0               7        PA Patel   \n",
       "462  normal           0       7            0               4       JP Duminy   \n",
       "466  normal           0       5            7               0       RA Jadeja   \n",
       "468  normal           0      10            4               0        AJ Finch   \n",
       "469  normal           0       5            0               7       MM Sharma   \n",
       "474  normal           0       9            0               5  Sandeep Sharma   \n",
       "476  normal           0      10           15               0         B Kumar   \n",
       "\n",
       "                                   venue          umpire1         umpire2  \\\n",
       "461  Dubai International Cricket Stadium        Aleem Dar    AK Chaudhary   \n",
       "462  Dubai International Cricket Stadium        Aleem Dar     VA Kulkarni   \n",
       "466  Dubai International Cricket Stadium  HDPK Dharmasena  RK Illingworth   \n",
       "468  Dubai International Cricket Stadium        M Erasmus          S Ravi   \n",
       "469  Dubai International Cricket Stadium        BF Bowden       M Erasmus   \n",
       "474  Dubai International Cricket Stadium        BF Bowden          S Ravi   \n",
       "476  Dubai International Cricket Stadium  HDPK Dharmasena       M Erasmus   \n",
       "\n",
       "    umpire3  \n",
       "461     NaN  \n",
       "462     NaN  \n",
       "466     NaN  \n",
       "468     NaN  \n",
       "469     NaN  \n",
       "474     NaN  \n",
       "476     NaN  "
      ]
     },
     "execution_count": 11,
     "metadata": {},
     "output_type": "execute_result"
    }
   ],
   "source": [
    "matches[pd.isnull(matches['city'])]"
   ]
  },
  {
   "cell_type": "code",
   "execution_count": 12,
   "metadata": {},
   "outputs": [
    {
     "data": {
      "text/html": [
       "<div>\n",
       "<style scoped>\n",
       "    .dataframe tbody tr th:only-of-type {\n",
       "        vertical-align: middle;\n",
       "    }\n",
       "\n",
       "    .dataframe tbody tr th {\n",
       "        vertical-align: top;\n",
       "    }\n",
       "\n",
       "    .dataframe thead th {\n",
       "        text-align: right;\n",
       "    }\n",
       "</style>\n",
       "<table border=\"1\" class=\"dataframe\">\n",
       "  <thead>\n",
       "    <tr style=\"text-align: right;\">\n",
       "      <th></th>\n",
       "      <th>id</th>\n",
       "      <th>season</th>\n",
       "      <th>team1</th>\n",
       "      <th>team2</th>\n",
       "      <th>toss_winner</th>\n",
       "      <th>dl_applied</th>\n",
       "      <th>winner</th>\n",
       "      <th>win_by_runs</th>\n",
       "      <th>win_by_wickets</th>\n",
       "    </tr>\n",
       "  </thead>\n",
       "  <tbody>\n",
       "    <tr>\n",
       "      <th>count</th>\n",
       "      <td>756.000000</td>\n",
       "      <td>756.000000</td>\n",
       "      <td>756.000000</td>\n",
       "      <td>756.000000</td>\n",
       "      <td>756.000000</td>\n",
       "      <td>756.000000</td>\n",
       "      <td>756.000000</td>\n",
       "      <td>756.000000</td>\n",
       "      <td>756.000000</td>\n",
       "    </tr>\n",
       "    <tr>\n",
       "      <th>mean</th>\n",
       "      <td>1792.178571</td>\n",
       "      <td>2013.444444</td>\n",
       "      <td>5.498677</td>\n",
       "      <td>5.511905</td>\n",
       "      <td>5.370370</td>\n",
       "      <td>0.025132</td>\n",
       "      <td>5.318783</td>\n",
       "      <td>13.283069</td>\n",
       "      <td>3.350529</td>\n",
       "    </tr>\n",
       "    <tr>\n",
       "      <th>std</th>\n",
       "      <td>3464.478148</td>\n",
       "      <td>3.366895</td>\n",
       "      <td>3.307026</td>\n",
       "      <td>3.274807</td>\n",
       "      <td>3.218386</td>\n",
       "      <td>0.156630</td>\n",
       "      <td>3.264940</td>\n",
       "      <td>23.471144</td>\n",
       "      <td>3.387963</td>\n",
       "    </tr>\n",
       "    <tr>\n",
       "      <th>min</th>\n",
       "      <td>1.000000</td>\n",
       "      <td>2008.000000</td>\n",
       "      <td>1.000000</td>\n",
       "      <td>1.000000</td>\n",
       "      <td>1.000000</td>\n",
       "      <td>0.000000</td>\n",
       "      <td>1.000000</td>\n",
       "      <td>0.000000</td>\n",
       "      <td>0.000000</td>\n",
       "    </tr>\n",
       "    <tr>\n",
       "      <th>25%</th>\n",
       "      <td>189.750000</td>\n",
       "      <td>2011.000000</td>\n",
       "      <td>3.000000</td>\n",
       "      <td>3.000000</td>\n",
       "      <td>2.000000</td>\n",
       "      <td>0.000000</td>\n",
       "      <td>2.000000</td>\n",
       "      <td>0.000000</td>\n",
       "      <td>0.000000</td>\n",
       "    </tr>\n",
       "    <tr>\n",
       "      <th>50%</th>\n",
       "      <td>378.500000</td>\n",
       "      <td>2013.000000</td>\n",
       "      <td>5.000000</td>\n",
       "      <td>5.000000</td>\n",
       "      <td>5.000000</td>\n",
       "      <td>0.000000</td>\n",
       "      <td>5.000000</td>\n",
       "      <td>0.000000</td>\n",
       "      <td>4.000000</td>\n",
       "    </tr>\n",
       "    <tr>\n",
       "      <th>75%</th>\n",
       "      <td>567.250000</td>\n",
       "      <td>2016.000000</td>\n",
       "      <td>9.000000</td>\n",
       "      <td>8.000000</td>\n",
       "      <td>7.000000</td>\n",
       "      <td>0.000000</td>\n",
       "      <td>8.000000</td>\n",
       "      <td>19.000000</td>\n",
       "      <td>6.000000</td>\n",
       "    </tr>\n",
       "    <tr>\n",
       "      <th>max</th>\n",
       "      <td>11415.000000</td>\n",
       "      <td>2019.000000</td>\n",
       "      <td>13.000000</td>\n",
       "      <td>13.000000</td>\n",
       "      <td>13.000000</td>\n",
       "      <td>1.000000</td>\n",
       "      <td>14.000000</td>\n",
       "      <td>146.000000</td>\n",
       "      <td>10.000000</td>\n",
       "    </tr>\n",
       "  </tbody>\n",
       "</table>\n",
       "</div>"
      ],
      "text/plain": [
       "                 id       season       team1       team2  toss_winner  \\\n",
       "count    756.000000   756.000000  756.000000  756.000000   756.000000   \n",
       "mean    1792.178571  2013.444444    5.498677    5.511905     5.370370   \n",
       "std     3464.478148     3.366895    3.307026    3.274807     3.218386   \n",
       "min        1.000000  2008.000000    1.000000    1.000000     1.000000   \n",
       "25%      189.750000  2011.000000    3.000000    3.000000     2.000000   \n",
       "50%      378.500000  2013.000000    5.000000    5.000000     5.000000   \n",
       "75%      567.250000  2016.000000    9.000000    8.000000     7.000000   \n",
       "max    11415.000000  2019.000000   13.000000   13.000000    13.000000   \n",
       "\n",
       "       dl_applied      winner  win_by_runs  win_by_wickets  \n",
       "count  756.000000  756.000000   756.000000      756.000000  \n",
       "mean     0.025132    5.318783    13.283069        3.350529  \n",
       "std      0.156630    3.264940    23.471144        3.387963  \n",
       "min      0.000000    1.000000     0.000000        0.000000  \n",
       "25%      0.000000    2.000000     0.000000        0.000000  \n",
       "50%      0.000000    5.000000     0.000000        4.000000  \n",
       "75%      0.000000    8.000000    19.000000        6.000000  \n",
       "max      1.000000   14.000000   146.000000       10.000000  "
      ]
     },
     "execution_count": 12,
     "metadata": {},
     "output_type": "execute_result"
    }
   ],
   "source": [
    "matches['city'].fillna('Dubai',inplace=True)\n",
    "matches.describe()"
   ]
  },
  {
   "cell_type": "code",
   "execution_count": 13,
   "metadata": {},
   "outputs": [
    {
     "name": "stdout",
     "output_type": "stream",
     "text": [
      "1\n",
      "MI\n"
     ]
    }
   ],
   "source": [
    "dicVal = encode['winner']\n",
    "print(dicVal['MI']) #key value\n",
    "print(list(dicVal.keys())[list(dicVal.values()).index(1)]) #find key by value search "
   ]
  },
  {
   "cell_type": "code",
   "execution_count": 14,
   "metadata": {},
   "outputs": [
    {
     "data": {
      "text/plain": [
       "Index(['id', 'season', 'city', 'date', 'team1', 'team2', 'toss_winner',\n",
       "       'toss_decision', 'result', 'dl_applied', 'winner', 'win_by_runs',\n",
       "       'win_by_wickets', 'player_of_match', 'venue', 'umpire1', 'umpire2',\n",
       "       'umpire3'],\n",
       "      dtype='object')"
      ]
     },
     "execution_count": 14,
     "metadata": {},
     "output_type": "execute_result"
    }
   ],
   "source": [
    "matches.keys()"
   ]
  },
  {
   "cell_type": "code",
   "execution_count": 15,
   "metadata": {},
   "outputs": [],
   "source": [
    "matches = matches[['team1','team2','city','toss_decision','toss_winner','venue','winner']]"
   ]
  },
  {
   "cell_type": "code",
   "execution_count": 16,
   "metadata": {},
   "outputs": [
    {
     "data": {
      "text/html": [
       "<div>\n",
       "<style scoped>\n",
       "    .dataframe tbody tr th:only-of-type {\n",
       "        vertical-align: middle;\n",
       "    }\n",
       "\n",
       "    .dataframe tbody tr th {\n",
       "        vertical-align: top;\n",
       "    }\n",
       "\n",
       "    .dataframe thead th {\n",
       "        text-align: right;\n",
       "    }\n",
       "</style>\n",
       "<table border=\"1\" class=\"dataframe\">\n",
       "  <thead>\n",
       "    <tr style=\"text-align: right;\">\n",
       "      <th></th>\n",
       "      <th>team1</th>\n",
       "      <th>team2</th>\n",
       "      <th>city</th>\n",
       "      <th>toss_decision</th>\n",
       "      <th>toss_winner</th>\n",
       "      <th>venue</th>\n",
       "      <th>winner</th>\n",
       "    </tr>\n",
       "  </thead>\n",
       "  <tbody>\n",
       "    <tr>\n",
       "      <th>0</th>\n",
       "      <td>10</td>\n",
       "      <td>3</td>\n",
       "      <td>Hyderabad</td>\n",
       "      <td>field</td>\n",
       "      <td>3</td>\n",
       "      <td>Rajiv Gandhi International Stadium, Uppal</td>\n",
       "      <td>10</td>\n",
       "    </tr>\n",
       "    <tr>\n",
       "      <th>1</th>\n",
       "      <td>1</td>\n",
       "      <td>11</td>\n",
       "      <td>Pune</td>\n",
       "      <td>field</td>\n",
       "      <td>11</td>\n",
       "      <td>Maharashtra Cricket Association Stadium</td>\n",
       "      <td>11</td>\n",
       "    </tr>\n",
       "  </tbody>\n",
       "</table>\n",
       "</div>"
      ],
      "text/plain": [
       "   team1  team2       city toss_decision  toss_winner  \\\n",
       "0     10      3  Hyderabad         field            3   \n",
       "1      1     11       Pune         field           11   \n",
       "\n",
       "                                       venue  winner  \n",
       "0  Rajiv Gandhi International Stadium, Uppal      10  \n",
       "1    Maharashtra Cricket Association Stadium      11  "
      ]
     },
     "execution_count": 16,
     "metadata": {},
     "output_type": "execute_result"
    }
   ],
   "source": [
    "matches.head(2)"
   ]
  },
  {
   "cell_type": "code",
   "execution_count": 17,
   "metadata": {},
   "outputs": [
    {
     "data": {
      "text/html": [
       "<div>\n",
       "<style scoped>\n",
       "    .dataframe tbody tr th:only-of-type {\n",
       "        vertical-align: middle;\n",
       "    }\n",
       "\n",
       "    .dataframe tbody tr th {\n",
       "        vertical-align: top;\n",
       "    }\n",
       "\n",
       "    .dataframe thead th {\n",
       "        text-align: right;\n",
       "    }\n",
       "</style>\n",
       "<table border=\"1\" class=\"dataframe\">\n",
       "  <thead>\n",
       "    <tr style=\"text-align: right;\">\n",
       "      <th></th>\n",
       "      <th>team1</th>\n",
       "      <th>team2</th>\n",
       "      <th>toss_winner</th>\n",
       "      <th>winner</th>\n",
       "    </tr>\n",
       "  </thead>\n",
       "  <tbody>\n",
       "    <tr>\n",
       "      <th>count</th>\n",
       "      <td>756.000000</td>\n",
       "      <td>756.000000</td>\n",
       "      <td>756.000000</td>\n",
       "      <td>756.000000</td>\n",
       "    </tr>\n",
       "    <tr>\n",
       "      <th>mean</th>\n",
       "      <td>5.498677</td>\n",
       "      <td>5.511905</td>\n",
       "      <td>5.370370</td>\n",
       "      <td>5.318783</td>\n",
       "    </tr>\n",
       "    <tr>\n",
       "      <th>std</th>\n",
       "      <td>3.307026</td>\n",
       "      <td>3.274807</td>\n",
       "      <td>3.218386</td>\n",
       "      <td>3.264940</td>\n",
       "    </tr>\n",
       "    <tr>\n",
       "      <th>min</th>\n",
       "      <td>1.000000</td>\n",
       "      <td>1.000000</td>\n",
       "      <td>1.000000</td>\n",
       "      <td>1.000000</td>\n",
       "    </tr>\n",
       "    <tr>\n",
       "      <th>25%</th>\n",
       "      <td>3.000000</td>\n",
       "      <td>3.000000</td>\n",
       "      <td>2.000000</td>\n",
       "      <td>2.000000</td>\n",
       "    </tr>\n",
       "    <tr>\n",
       "      <th>50%</th>\n",
       "      <td>5.000000</td>\n",
       "      <td>5.000000</td>\n",
       "      <td>5.000000</td>\n",
       "      <td>5.000000</td>\n",
       "    </tr>\n",
       "    <tr>\n",
       "      <th>75%</th>\n",
       "      <td>9.000000</td>\n",
       "      <td>8.000000</td>\n",
       "      <td>7.000000</td>\n",
       "      <td>8.000000</td>\n",
       "    </tr>\n",
       "    <tr>\n",
       "      <th>max</th>\n",
       "      <td>13.000000</td>\n",
       "      <td>13.000000</td>\n",
       "      <td>13.000000</td>\n",
       "      <td>14.000000</td>\n",
       "    </tr>\n",
       "  </tbody>\n",
       "</table>\n",
       "</div>"
      ],
      "text/plain": [
       "            team1       team2  toss_winner      winner\n",
       "count  756.000000  756.000000   756.000000  756.000000\n",
       "mean     5.498677    5.511905     5.370370    5.318783\n",
       "std      3.307026    3.274807     3.218386    3.264940\n",
       "min      1.000000    1.000000     1.000000    1.000000\n",
       "25%      3.000000    3.000000     2.000000    2.000000\n",
       "50%      5.000000    5.000000     5.000000    5.000000\n",
       "75%      9.000000    8.000000     7.000000    8.000000\n",
       "max     13.000000   13.000000    13.000000   14.000000"
      ]
     },
     "execution_count": 17,
     "metadata": {},
     "output_type": "execute_result"
    }
   ],
   "source": [
    "df = pd.DataFrame(matches)\n",
    "df.describe()"
   ]
  },
  {
   "cell_type": "code",
   "execution_count": 18,
   "metadata": {},
   "outputs": [
    {
     "name": "stdout",
     "output_type": "stream",
     "text": [
      "No of toss winners by each team\n",
      "MI -> 98\n",
      "KKR -> 92\n",
      "DD -> 90\n",
      "CSK -> 89\n",
      "KXIP -> 81\n",
      "RCB -> 81\n",
      "RR -> 80\n",
      "SRH -> 46\n",
      "DC -> 43\n",
      "PW -> 20\n",
      "GL -> 15\n",
      "RPS -> 13\n",
      "KTK -> 8\n",
      "No of match winners by each team\n",
      "MI -> 109\n",
      "CSK -> 100\n",
      "KKR -> 92\n",
      "RCB -> 84\n",
      "KXIP -> 82\n",
      "DD -> 77\n",
      "RR -> 75\n",
      "SRH -> 58\n",
      "DC -> 29\n",
      "RPS -> 15\n",
      "GL -> 13\n",
      "PW -> 12\n",
      "KTK -> 6\n",
      "Draw -> 4\n"
     ]
    }
   ],
   "source": [
    "temp1=df['toss_winner'].value_counts(sort=True)\n",
    "temp2=df['winner'].value_counts(sort=True)\n",
    "#Mumbai won most toss and also most matches\n",
    "print('No of toss winners by each team')\n",
    "for idx, val in temp1.iteritems():\n",
    "   print('{} -> {}'.format(list(dicVal.keys())[list(dicVal.values()).index(idx)],val))\n",
    "print('No of match winners by each team')\n",
    "for idx, val in temp2.iteritems():\n",
    "   print('{} -> {}'.format(list(dicVal.keys())[list(dicVal.values()).index(idx)],val))"
   ]
  },
  {
   "cell_type": "code",
   "execution_count": 19,
   "metadata": {},
   "outputs": [
    {
     "data": {
      "text/plain": [
       "array([10, 11,  2,  9,  3,  1,  7,  8,  5,  6,  4, 13, 12, 14])"
      ]
     },
     "execution_count": 19,
     "metadata": {},
     "output_type": "execute_result"
    }
   ],
   "source": [
    "(matches[\"winner\"].unique())"
   ]
  },
  {
   "cell_type": "code",
   "execution_count": 20,
   "metadata": {},
   "outputs": [
    {
     "data": {
      "text/plain": [
       "<matplotlib.axes._subplots.AxesSubplot at 0x7f711095eef0>"
      ]
     },
     "execution_count": 20,
     "metadata": {},
     "output_type": "execute_result"
    }
   ],
   "source": [
    "#shows that Mumbai won most matches followed by Chennai\n",
    "df['winner'].hist(bins=40)"
   ]
  },
  {
   "cell_type": "code",
   "execution_count": 21,
   "metadata": {},
   "outputs": [
    {
     "data": {
      "text/plain": [
       "Text(0.5,1,'Match winners')"
      ]
     },
     "execution_count": 21,
     "metadata": {},
     "output_type": "execute_result"
    },
    {
     "data": {
      "image/png": "[encoded data removed]",
      "text/plain": [
       "<Figure size 576x288 with 2 Axes>"
      ]
     },
     "metadata": {},
     "output_type": "display_data"
    }
   ],
   "source": [
    "import matplotlib.pyplot as plt\n",
    "fig = plt.figure(figsize=(8,4))\n",
    "ax1 = fig.add_subplot(121)\n",
    "ax1.set_xlabel('Team')\n",
    "ax1.set_ylabel('Count of toss wins')\n",
    "ax1.set_title(\"toss winners\")\n",
    "temp1.plot(kind='bar')\n",
    "\n",
    "ax2 = fig.add_subplot(122)\n",
    "temp2.plot(kind = 'bar')\n",
    "ax2.set_xlabel('Team')\n",
    "ax2.set_ylabel('count of matches won')\n",
    "ax2.set_title(\"Match winners\")\n",
    "\n"
   ]
  },
  {
   "cell_type": "code",
   "execution_count": 22,
   "metadata": {},
   "outputs": [
    {
     "data": {
      "text/plain": [
       "team1            0\n",
       "team2            0\n",
       "city             0\n",
       "toss_decision    0\n",
       "toss_winner      0\n",
       "venue            0\n",
       "winner           0\n",
       "dtype: int64"
      ]
     },
     "execution_count": 22,
     "metadata": {},
     "output_type": "execute_result"
    }
   ],
   "source": [
    " df.apply(lambda x: sum(x.isnull()),axis=0) \n",
    "    #find the null values in every column"
   ]
  },
  {
   "cell_type": "code",
   "execution_count": 23,
   "metadata": {},
   "outputs": [
    {
     "data": {
      "text/html": [
       "<div>\n",
       "<style scoped>\n",
       "    .dataframe tbody tr th:only-of-type {\n",
       "        vertical-align: middle;\n",
       "    }\n",
       "\n",
       "    .dataframe tbody tr th {\n",
       "        vertical-align: top;\n",
       "    }\n",
       "\n",
       "    .dataframe thead th {\n",
       "        text-align: right;\n",
       "    }\n",
       "</style>\n",
       "<table border=\"1\" class=\"dataframe\">\n",
       "  <thead>\n",
       "    <tr style=\"text-align: right;\">\n",
       "      <th></th>\n",
       "      <th>team1</th>\n",
       "      <th>team2</th>\n",
       "      <th>city</th>\n",
       "      <th>toss_decision</th>\n",
       "      <th>toss_winner</th>\n",
       "      <th>venue</th>\n",
       "      <th>winner</th>\n",
       "    </tr>\n",
       "  </thead>\n",
       "  <tbody>\n",
       "  </tbody>\n",
       "</table>\n",
       "</div>"
      ],
      "text/plain": [
       "Empty DataFrame\n",
       "Columns: [team1, team2, city, toss_decision, toss_winner, venue, winner]\n",
       "Index: []"
      ]
     },
     "execution_count": 23,
     "metadata": {},
     "output_type": "execute_result"
    }
   ],
   "source": [
    "#Find cities which are null\n",
    "df[pd.isnull(df['city'])]"
   ]
  },
  {
   "cell_type": "code",
   "execution_count": 24,
   "metadata": {},
   "outputs": [],
   "source": [
    "df_backup=df.copy()"
   ]
  },
  {
   "cell_type": "code",
   "execution_count": 54,
   "metadata": {},
   "outputs": [
    {
     "data": {
      "text/plain": [
       "array(['Hyderabad', 'Pune', 'Rajkot', 'Indore', 'Bangalore', 'Mumbai',\n",
       "       'Kolkata', 'Delhi', 'Chandigarh', 'Kanpur', 'Jaipur', 'Chennai',\n",
       "       'Cape Town', 'Port Elizabeth', 'Durban', 'Centurion', 'East London',\n",
       "       'Johannesburg', 'Kimberley', 'Bloemfontein', 'Ahmedabad', 'Cuttack',\n",
       "       'Nagpur', 'Dharamsala', 'Kochi', 'Visakhapatnam', 'Raipur',\n",
       "       'Ranchi', 'Abu Dhabi', 'Sharjah', 'Dubai', 'Mohali', 'Bengaluru'], dtype=object)"
      ]
     },
     "execution_count": 54,
     "metadata": {},
     "output_type": "execute_result"
    }
   ],
   "source": [
    "df_backup[\"city\"].unique()\n",
    "#df_backup.head()"
   ]
  },
  {
   "cell_type": "code",
   "execution_count": 26,
   "metadata": {},
   "outputs": [
    {
     "data": {
      "text/plain": [
       "team1            int64\n",
       "team2            int64\n",
       "city             int64\n",
       "toss_decision    int64\n",
       "toss_winner      int64\n",
       "venue            int64\n",
       "winner           int64\n",
       "dtype: object"
      ]
     },
     "execution_count": 26,
     "metadata": {},
     "output_type": "execute_result"
    }
   ],
   "source": [
    "#building predictive model\n",
    "from sklearn.preprocessing import LabelEncoder\n",
    "var_mod = ['city','toss_decision','venue']\n",
    "le = LabelEncoder()\n",
    "for i in var_mod:\n",
    "    df[i] = le.fit_transform(df[i])\n",
    "df.dtypes "
   ]
  },
  {
   "cell_type": "code",
   "execution_count": 44,
   "metadata": {},
   "outputs": [
    {
     "data": {
      "text/html": [
       "<div>\n",
       "<style scoped>\n",
       "    .dataframe tbody tr th:only-of-type {\n",
       "        vertical-align: middle;\n",
       "    }\n",
       "\n",
       "    .dataframe tbody tr th {\n",
       "        vertical-align: top;\n",
       "    }\n",
       "\n",
       "    .dataframe thead th {\n",
       "        text-align: right;\n",
       "    }\n",
       "</style>\n",
       "<table border=\"1\" class=\"dataframe\">\n",
       "  <thead>\n",
       "    <tr style=\"text-align: right;\">\n",
       "      <th></th>\n",
       "      <th>team1</th>\n",
       "      <th>team2</th>\n",
       "      <th>city</th>\n",
       "      <th>toss_decision</th>\n",
       "      <th>toss_winner</th>\n",
       "      <th>venue</th>\n",
       "      <th>winner</th>\n",
       "    </tr>\n",
       "  </thead>\n",
       "  <tbody>\n",
       "    <tr>\n",
       "      <th>0</th>\n",
       "      <td>10</td>\n",
       "      <td>3</td>\n",
       "      <td>15</td>\n",
       "      <td>1</td>\n",
       "      <td>3</td>\n",
       "      <td>28</td>\n",
       "      <td>10</td>\n",
       "    </tr>\n",
       "    <tr>\n",
       "      <th>1</th>\n",
       "      <td>1</td>\n",
       "      <td>11</td>\n",
       "      <td>27</td>\n",
       "      <td>1</td>\n",
       "      <td>11</td>\n",
       "      <td>21</td>\n",
       "      <td>11</td>\n",
       "    </tr>\n",
       "  </tbody>\n",
       "</table>\n",
       "</div>"
      ],
      "text/plain": [
       "   team1  team2  city  toss_decision  toss_winner  venue  winner\n",
       "0     10      3    15              1            3     28      10\n",
       "1      1     11    27              1           11     21      11"
      ]
     },
     "execution_count": 44,
     "metadata": {},
     "output_type": "execute_result"
    }
   ],
   "source": [
    "df.head(2)"
   ]
  },
  {
   "cell_type": "code",
   "execution_count": 45,
   "metadata": {},
   "outputs": [
    {
     "name": "stderr",
     "output_type": "stream",
     "text": [
      "/home/jeevan/anaconda3/lib/python3.5/site-packages/sklearn/cross_validation.py:41: DeprecationWarning: This module was deprecated in version 0.18 in favor of the model_selection module into which all the refactored classes and functions are moved. Also note that the interface of the new CV iterators are different from that of this module. This module will be removed in 0.20.\n",
      "  \"This module will be removed in 0.20.\", DeprecationWarning)\n"
     ]
    }
   ],
   "source": [
    "\n",
    "\n",
    "#Import models from scikit learn module:\n",
    "from sklearn.linear_model import LogisticRegression\n",
    "from sklearn.cross_validation import KFold   #For K-fold cross validation\n",
    "from sklearn.ensemble import RandomForestClassifier\n",
    "from sklearn.tree import DecisionTreeClassifier, export_graphviz\n",
    "from sklearn import metrics\n",
    "\n",
    "#Generic function for making a classification model and accessing performance:\n",
    "def classification_model(model, data, predictors, outcome):\n",
    "  model.fit(data[predictors],data[outcome])\n",
    "  predictions = model.predict(data[predictors])\n",
    "  accuracy = metrics.accuracy_score(predictions,data[outcome])\n",
    "  print('Accuracy : %s' % '{0:.3%}'.format(accuracy))\n",
    "  kf = KFold(data.shape[0], n_folds=7)\n",
    "  error = []\n",
    "  for train, test in kf:\n",
    "    train_predictors = (data[predictors].iloc[train,:])\n",
    "    train_target = data[outcome].iloc[train]\n",
    "    model.fit(train_predictors, train_target)\n",
    "    error.append(model.score(data[predictors].iloc[test,:], data[outcome].iloc[test]))\n",
    " \n",
    "  print('Cross-Validation Score : %s' % '{0:.3%}'.format(np.mean(error)))\n",
    "\n",
    "  model.fit(data[predictors],data[outcome]) "
   ]
  },
  {
   "cell_type": "code",
   "execution_count": 48,
   "metadata": {},
   "outputs": [
    {
     "name": "stderr",
     "output_type": "stream",
     "text": [
      "/home/jeevan/anaconda3/lib/python3.5/site-packages/sklearn/utils/validation.py:578: DataConversionWarning: A column-vector y was passed when a 1d array was expected. Please change the shape of y to (n_samples, ), for example using ravel().\n",
      "  y = column_or_1d(y, warn=True)\n"
     ]
    },
    {
     "name": "stdout",
     "output_type": "stream",
     "text": [
      "Accuracy : 31.614%\n",
      "Cross-Validation Score : 26.587%\n"
     ]
    }
   ],
   "source": [
    "from sklearn.ensemble import RandomForestRegressor\n",
    "outcome_var=['winner']\n",
    "predictor_var = ['team1','team2','venue','toss_winner','city','toss_decision']\n",
    "model = LogisticRegression()\n",
    "classification_model(model, df,predictor_var,outcome_var)"
   ]
  },
  {
   "cell_type": "code",
   "execution_count": 51,
   "metadata": {},
   "outputs": [
    {
     "name": "stderr",
     "output_type": "stream",
     "text": [
      "/home/jeevan/.local/lib/python3.5/site-packages/ipykernel_launcher.py:12: DataConversionWarning: A column-vector y was passed when a 1d array was expected. Please change the shape of y to (n_samples,), for example using ravel().\n",
      "  if sys.path[0] == '':\n",
      "/home/jeevan/.local/lib/python3.5/site-packages/ipykernel_launcher.py:21: DataConversionWarning: A column-vector y was passed when a 1d array was expected. Please change the shape of y to (n_samples,), for example using ravel().\n"
     ]
    },
    {
     "name": "stdout",
     "output_type": "stream",
     "text": [
      "Accuracy : 87.963%\n"
     ]
    },
    {
     "name": "stderr",
     "output_type": "stream",
     "text": [
      "/home/jeevan/.local/lib/python3.5/site-packages/ipykernel_launcher.py:21: DataConversionWarning: A column-vector y was passed when a 1d array was expected. Please change the shape of y to (n_samples,), for example using ravel().\n",
      "/home/jeevan/.local/lib/python3.5/site-packages/ipykernel_launcher.py:21: DataConversionWarning: A column-vector y was passed when a 1d array was expected. Please change the shape of y to (n_samples,), for example using ravel().\n",
      "/home/jeevan/.local/lib/python3.5/site-packages/ipykernel_launcher.py:21: DataConversionWarning: A column-vector y was passed when a 1d array was expected. Please change the shape of y to (n_samples,), for example using ravel().\n",
      "/home/jeevan/.local/lib/python3.5/site-packages/ipykernel_launcher.py:21: DataConversionWarning: A column-vector y was passed when a 1d array was expected. Please change the shape of y to (n_samples,), for example using ravel().\n",
      "/home/jeevan/.local/lib/python3.5/site-packages/ipykernel_launcher.py:21: DataConversionWarning: A column-vector y was passed when a 1d array was expected. Please change the shape of y to (n_samples,), for example using ravel().\n",
      "/home/jeevan/.local/lib/python3.5/site-packages/ipykernel_launcher.py:21: DataConversionWarning: A column-vector y was passed when a 1d array was expected. Please change the shape of y to (n_samples,), for example using ravel().\n"
     ]
    },
    {
     "name": "stdout",
     "output_type": "stream",
     "text": [
      "Cross-Validation Score : 51.852%\n"
     ]
    },
    {
     "name": "stderr",
     "output_type": "stream",
     "text": [
      "/home/jeevan/.local/lib/python3.5/site-packages/ipykernel_launcher.py:26: DataConversionWarning: A column-vector y was passed when a 1d array was expected. Please change the shape of y to (n_samples,), for example using ravel().\n"
     ]
    }
   ],
   "source": [
    "model = RandomForestClassifier(n_estimators=100)\n",
    "outcome_var = ['winner']\n",
    "predictor_var = ['team1', 'team2', 'venue', 'toss_winner','city','toss_decision']\n",
    "classification_model(model, df,predictor_var,outcome_var)"
   ]
  },
  {
   "cell_type": "code",
   "execution_count": 52,
   "metadata": {},
   "outputs": [
    {
     "name": "stdout",
     "output_type": "stream",
     "text": [
      "KKR\n"
     ]
    }
   ],
   "source": [
    "#'team1', 'team2', 'venue', 'toss_winner','city','toss_decision'\n",
    "team1='RCB'\n",
    "team2='KKR'\n",
    "toss_winner='RCB'\n",
    "input=[dicVal[team1],dicVal[team2],'14',dicVal[toss_winner],'2','1']\n",
    "input = np.array(input).reshape((1, -1))\n",
    "output=model.predict(input)\n",
    "print(list(dicVal.keys())[list(dicVal.values()).index(output)]) #find key by value search output"
   ]
  },
  {
   "cell_type": "code",
   "execution_count": 56,
   "metadata": {},
   "outputs": [
    {
     "name": "stdout",
     "output_type": "stream",
     "text": [
      "team2            0.251295\n",
      "team1            0.224487\n",
      "venue            0.173959\n",
      "toss_winner      0.165231\n",
      "city             0.154654\n",
      "toss_decision    0.030374\n",
      "dtype: float64\n"
     ]
    }
   ],
   "source": [
    "#feature importances: If we ignore teams, Venue seems to be one of important factors in determining winners \n",
    "#followed by toss winning, city\n",
    "#we notice that team1 and team2 account for highest value for reason that it is either if these value \n",
    "#with toss winner going to be winner. So we could ignore team2 and team1\n",
    "imp_input = pd.Series(model.feature_importances_, index=predictor_var).sort_values(ascending=False)\n",
    "print(imp_input)"
   ]
  },
  {
   "cell_type": "code",
   "execution_count": 59,
   "metadata": {},
   "outputs": [
    {
     "data": {
      "image/png": "[encoded data removed]",
      "text/plain": [
       "<Figure size 432x432 with 1 Axes>"
      ]
     },
     "metadata": {},
     "output_type": "display_data"
    }
   ],
   "source": [
    "#okay from the above prediction on features, we notice toss winner has least chances of winning matches\n",
    "#but does the current stats shows the same result\n",
    "#df.count --> 577 rows\n",
    "#Previously toss_winners were about 50.4%, with 2017 IPL season, it has reached 56.7%. As data matures, so does\n",
    "# the changes in the predictions\n",
    "import matplotlib.pyplot as mlt\n",
    "mlt.style.use('fivethirtyeight')\n",
    "df_fil=df[df['toss_winner']==df['winner']]\n",
    "slices=[len(df_fil),(577-len(df_fil))]\n",
    "mlt.pie(slices,labels=['Toss & win','Toss & lose'],startangle=90,shadow=True,explode=(0,0),autopct='%1.1f%%',colors=['r','g'])\n",
    "fig = mlt.gcf()\n",
    "fig.set_size_inches(6,6)\n",
    "mlt.show()\n",
    "# Toss winning does not gaurantee a match win from analysis of current stats and thus \n",
    "#prediction feature gives less weightage to that \n"
   ]
  },
  {
   "cell_type": "code",
   "execution_count": 60,
   "metadata": {},
   "outputs": [
    {
     "data": {
      "image/png": "[encoded data removed]",
      "text/plain": [
       "<Figure size 720x432 with 1 Axes>"
      ]
     },
     "metadata": {},
     "output_type": "display_data"
    }
   ],
   "source": [
    "#top 2 team analysis based on number of matches won against each other and how venue affects them?\n",
    "#Previously we noticed that CSK won 79, RCB won 70 matches\n",
    "#now let us compare venue against a match between CSK and RCB\n",
    "#we find that CSK has won most matches against RCB in MA Chidambaram Stadium, Chepauk, Chennai\n",
    "#RCB has not won any match with CSK in stadiums St George's Park and Wankhede Stadium, but won matches\n",
    "#with CSK in Kingsmead, New Wanderers Stadium.\n",
    "#It does prove that chances of CSK winning is more in Chepauk stadium when played against RCB.\n",
    "# Proves venue is important feature in predictability\n",
    "import seaborn as sns\n",
    "team1=dicVal['MI']\n",
    "team2=dicVal['CSK']\n",
    "mtemp=matches[((matches['team1']==team1)|(matches['team2']==team1))&((matches['team1']==team2)|(matches['team2']==team2))]\n",
    "sns.countplot(x='venue', hue='winner',data=mtemp,palette='Set2')\n",
    "mlt.xticks(rotation='vertical')\n",
    "leg = mlt.legend( loc = 'upper right')\n",
    "fig=mlt.gcf()\n",
    "fig.set_size_inches(10,6)\n",
    "mlt.show()\n",
    "#use --> le.classes_[18] to get stadium details"
   ]
  },
  {
   "cell_type": "code",
   "execution_count": 61,
   "metadata": {},
   "outputs": [
    {
     "data": {
      "text/plain": [
       "'Sharjah Cricket Stadium'"
      ]
     },
     "execution_count": 61,
     "metadata": {},
     "output_type": "execute_result"
    }
   ],
   "source": [
    "le.classes_[34]"
   ]
  },
  {
   "cell_type": "code",
   "execution_count": null,
   "metadata": {},
   "outputs": [],
   "source": []
  },
  {
   "cell_type": "code",
   "execution_count": null,
   "metadata": {},
   "outputs": [],
   "source": []
  },
  {
   "cell_type": "code",
   "execution_count": null,
   "metadata": {},
   "outputs": [],
   "source": []
  },
  {
   "cell_type": "code",
   "execution_count": null,
   "metadata": {},
   "outputs": [],
   "source": []
  },
  {
   "cell_type": "code",
   "execution_count": null,
   "metadata": {},
   "outputs": [],
   "source": []
  },
  {
   "cell_type": "code",
   "execution_count": null,
   "metadata": {},
   "outputs": [],
   "source": []
  },
  {
   "cell_type": "markdown",
   "metadata": {},
   "source": [
    "# Lets get 4 features now. For both teams, Find Average of \n",
    "1)Top 5 Batsman's averages + strike rate\n",
    "2)Bowlers: Average+Strike rate+Economy.\n",
    "and normalize it\n",
    "\n",
    "\n",
    "Columns: \n",
    "Team1 : Bowl : avg, strike, economy\n",
    "Team1 : Bat  : avg, strike\n",
    "Team2 : Bowl : avg, strike, economy\n",
    "Team2 : Bat  : avg, strike\n",
    "\n",
    "Total columns= 3+3+2+2=10 columns.\n",
    "Normalize each column with its max value.\n",
    "Add column :Bowl_Overall : avg, strike, economy\n",
    "Add column :Bat_Overall : avg, strike\n",
    "\n",
    "Total_column=2+2=4 columns\n"
   ]
  },
  {
   "cell_type": "code",
   "execution_count": 251,
   "metadata": {},
   "outputs": [],
   "source": [
    "#df_bowl=df_bowl.drop(columns=\"0\")\n",
    "#df_bat=df_bat.drop(columns=\"0\")"
   ]
  },
  {
   "cell_type": "code",
   "execution_count": 252,
   "metadata": {},
   "outputs": [],
   "source": [
    "p=df_bat.values\n",
    "pba=p[:,:22]\n",
    "pbs=p[:,22:44]"
   ]
  },
  {
   "cell_type": "code",
   "execution_count": 253,
   "metadata": {},
   "outputs": [],
   "source": [
    "pba=pba/pba.max()\n",
    "pbs=pbs/pbs.max()"
   ]
  },
  {
   "cell_type": "code",
   "execution_count": 254,
   "metadata": {},
   "outputs": [],
   "source": [
    "pbat=(pba+pbs)"
   ]
  },
  {
   "cell_type": "code",
   "execution_count": 255,
   "metadata": {},
   "outputs": [],
   "source": [
    "team1_bat=pbat[:,:11]\n",
    "team2_bat=pbat[:,11:22]"
   ]
  },
  {
   "cell_type": "code",
   "execution_count": 269,
   "metadata": {},
   "outputs": [],
   "source": [
    "team1_bat.sort()\n",
    "team2_bat.sort()\n",
    "team1_top5_bats=team1_bat[:,-5:]\n",
    "team2_top5_bats=team2_bat[:,-5:]\n",
    "team1_bat_strength=team1_top5_bats.sum(axis=1)\n",
    "team2_bat_strength=team2_top5_bats.sum(axis=1)"
   ]
  },
  {
   "cell_type": "code",
   "execution_count": 270,
   "metadata": {},
   "outputs": [
    {
     "data": {
      "text/plain": [
       "array([ 4.74049682,  6.04014592,  4.3420916 ,  5.61743097,  5.21590229,\n",
       "        4.99217926,  5.34507103,  4.52331121,  4.71892044,  4.67435411,\n",
       "        4.57472411,  4.74049682,  5.08590381,  5.34507103,  6.04014592,\n",
       "        4.85173981,  5.49865718,  5.03618003,  4.49436751,  5.48771755,\n",
       "        4.4074875 ,  4.79191767,  5.48771755,  5.34739288,  4.84398576,\n",
       "        4.79191767,  4.57472411,  5.34739288,  5.27767541,  4.79191767,\n",
       "        4.91411629,  4.11805755,  5.32031844,  5.56721033,  5.16067   ,\n",
       "        5.34739288,  4.79191767,  4.2397728 ,  4.80369267,  5.95665631,\n",
       "        4.51475257,  5.34739288,  5.32031844,  4.57472411,  4.83234566,\n",
       "        5.73348659,  4.61519263,  4.86009258,  4.45403217,  5.95327038,\n",
       "        4.95440941,  4.82403299,  5.44864568,  4.7612331 ,  4.54378606,\n",
       "        4.57472411,  4.92204874,  4.33242127,  4.89885225,  4.26372363,\n",
       "        5.15194266,  5.01051447,  5.78894107,  5.3903347 ,  4.56610369,\n",
       "        5.23129928,  4.49659558,  5.15194266,  4.89885225,  5.23129928,\n",
       "        4.49659558,  4.5867205 ,  5.0265087 ,  4.49659558,  5.1641273 ,\n",
       "        5.0265087 ,  5.23129928,  4.49659558,  4.8521943 ,  5.29470526,\n",
       "        4.03393076,  5.35044301,  5.1641273 ,  4.91946682,  4.48727056,\n",
       "        4.03393076,  5.46015685,  4.83157973,  4.04124746,  5.29470526,\n",
       "        4.70567037,  5.19598938,  4.03393076,  4.69723377,  5.46015685,\n",
       "        4.04124746,  4.97903646,  4.71744561,  5.35044301,  5.78894107,\n",
       "        5.01604313,  4.99080747,  4.69723377,  4.95106559,  4.99080747,\n",
       "        4.52543439,  4.43389517,  5.11915619,  3.95276528,  4.99080747,\n",
       "        4.72453785,  5.40118383,  5.19079244,  5.78894107,  5.19079244,\n",
       "        4.42216476,  4.46131792,  5.23129928,  5.98126468,  5.40118383,\n",
       "        5.23129928,  5.10896698,  6.13871835,  4.40041644,  4.79222834,\n",
       "        5.85591362,  5.10896698,  4.42257245,  5.98126468,  5.39014881,\n",
       "        5.05322678,  5.1991991 ,  5.56296965,  4.8137053 ,  5.82774845,\n",
       "        5.36571915,  5.20770362,  5.016659  ,  5.78894107,  4.4731096 ,\n",
       "        5.016659  ,  4.95847628,  6.13369284,  4.86580435,  5.41001123,\n",
       "        6.13369284,  4.53179577,  5.41001123,  5.10896698,  6.02389063,\n",
       "        4.47273412,  4.4731096 ,  5.10896698,  5.22307263,  5.37295199,\n",
       "        4.77898161,  6.04014592,  4.68310537,  4.99217926,  4.63560824,\n",
       "        5.99743128,  5.31814927,  4.94328128,  6.13369284,  5.20719795,\n",
       "        5.37295199,  4.65473286,  5.41834782,  6.13871835,  5.37295199,\n",
       "        4.86073224,  4.95788417,  5.29889423,  5.2119956 ,  4.95788417,\n",
       "        4.8906709 ,  4.67473442,  5.71690621,  4.38504069,  4.64635821,\n",
       "        5.11119094,  5.14476273,  4.38504069,  5.25685102,  4.84460254,\n",
       "        5.71690621,  5.07331656,  5.19740596,  5.71690621,  4.64635821,\n",
       "        5.00584393,  4.57093658,  5.56006851,  4.74626246,  4.82675423,\n",
       "        5.06264631,  4.8511297 ,  5.56006851,  5.72966833,  4.82507108,\n",
       "        4.90821439,  4.93388912,  5.07390754,  5.72966833,  5.5050891 ,\n",
       "        4.92531012,  5.39987246,  4.91851883,  5.13325382,  4.80166362,\n",
       "        4.86032975,  5.13325382,  5.19365506,  4.86032975,  5.38023006,\n",
       "        4.92799845,  4.95866105,  4.79325351,  4.92799845,  4.75919995,\n",
       "        4.64635821,  5.56006851,  4.90556256,  5.38023006,  5.13913789,\n",
       "        5.56006851,  5.13913789,  4.79325351,  5.72966833,  4.74842611,\n",
       "        5.15569733,  4.92799845,  5.03543601,  4.37516338,  4.88986596,\n",
       "        4.82535218,  5.53395323,  4.9180302 ,  5.28127383,  5.03063263,\n",
       "        4.96761218,  4.9538736 ,  5.56006851,  4.25977537,  5.56006851,\n",
       "        4.25977537,  4.25977537,  5.84100122,  5.02417167,  5.27083755,\n",
       "        5.05186231,  4.89824292,  5.22791968,  5.57797562,  4.98581462,\n",
       "        4.89013909,  5.02417167,  5.28127383,  5.57797562,  4.66513319,\n",
       "        5.84100122,  5.12059354,  4.88374438,  5.57797562,  4.91582953,\n",
       "        4.88374438,  5.18309155,  4.86780134,  4.90388495,  4.98581462,\n",
       "        4.92629368,  5.12059354,  5.84100122,  4.88374438,  5.1144727 ,\n",
       "        5.34228807,  4.98581462,  5.85154832,  5.18499608,  4.73923585,\n",
       "        5.36927678,  4.57432031,  5.03538135,  5.85154832,  4.88374438,\n",
       "        5.20768711,  4.98581462,  5.05186231,  5.18499608,  4.77953094,\n",
       "        4.85372366,  4.9418745 ,  5.07189081,  4.9590947 ,  5.57797562,\n",
       "        5.00933446,  4.98581462,  4.87590404,  5.34228807,  5.85154832,\n",
       "        4.94343118,  5.27872278,  5.85154832,  4.82694027,  5.01055321,\n",
       "        4.90463085,  4.98349455,  4.82694027,  5.54783473,  5.16188991,\n",
       "        5.11618101,  5.27872278,  5.85154832,  4.92757003,  4.85513056,\n",
       "        5.11618101,  5.85154832,  4.81063544,  5.11618101,  4.81063544,\n",
       "        5.56006851,  5.56006851,  4.80668405,  5.1242328 ,  5.23998669,\n",
       "        4.92600784,  5.0233273 ,  4.87277691,  5.78090133,  4.92799845,\n",
       "        4.92872743,  5.04181613,  5.50278379,  4.8906709 ,  4.91742412,\n",
       "        5.04181613,  5.25364117,  5.65583321,  5.04181613,  4.87277691,\n",
       "        5.37327197,  4.94295017,  5.01893258,  5.0429749 ,  4.99996853,\n",
       "        5.56006851,  5.03078828,  5.56006851,  4.95051098,  5.0233273 ,\n",
       "        5.11622697,  4.95051098,  5.15784183,  5.08438873,  4.6457199 ,\n",
       "        5.13656736,  5.26292982,  5.03334926,  5.72966833,  5.23477964,\n",
       "        5.11622697,  5.84462736,  5.16792671,  5.56006851,  4.6457199 ,\n",
       "        4.94295017,  5.16792671,  5.98579351,  4.88287179,  5.05511876,\n",
       "        5.50278379,  5.17292541,  5.76997267,  5.06737909,  4.94295017,\n",
       "        5.50278379,  4.95051098,  5.39987246,  5.76997267,  4.99964376,\n",
       "        4.9914216 ,  5.76997267,  5.50278379,  4.9914216 ,  5.04710626,\n",
       "        4.96586758,  5.40974789,  4.95051098,  4.88416788,  5.05677305,\n",
       "        5.14203623,  5.50278379,  4.8479817 ,  5.39987246,  4.71640012,\n",
       "        4.9914216 ,  4.95051098,  4.71668286,  5.22714422,  5.38221449,\n",
       "        5.14075589,  4.66881703,  4.94189942,  5.32588047,  5.14075589,\n",
       "        5.32588047,  5.4586249 ,  5.46143256,  5.22714422,  5.52243941,\n",
       "        5.0332491 ,  5.37855705,  5.14075589,  5.0332491 ,  5.46143256,\n",
       "        5.70482115,  4.58387173,  5.4586249 ,  5.22714422,  5.14075589,\n",
       "        4.58387173,  5.4586249 ,  5.37554222,  5.46143256,  5.87192029,\n",
       "        5.52584127,  5.46143256,  5.64090554,  5.48176286,  5.64090554,\n",
       "        5.46143256,  5.52584127,  4.98860033,  4.73208572,  4.58387173,\n",
       "        5.7059311 ,  5.14075589,  4.73208572,  5.66029347,  5.57832649,\n",
       "        5.37554222,  4.91563017,  5.14075589,  5.57832649,  5.46143256,\n",
       "        4.91563017,  5.57631752,  5.09466609,  5.47378866,  5.03857007,\n",
       "        5.30763965,  4.65825296,  5.65728035,  4.71047915,  5.37554222,\n",
       "        5.06269235,  5.14075589,  5.14075589,  4.96113883,  5.29307752,\n",
       "        4.6052443 ,  5.4967285 ,  6.03283799,  4.6052443 ,  5.18353586,\n",
       "        5.4967285 ,  5.08506582,  5.35318721,  4.6052443 ,  5.46143256,\n",
       "        5.35318721,  5.37554222,  5.46143256,  4.71141547,  5.37554222,\n",
       "        5.07227725,  5.01239055,  5.46143256,  4.71141547,  6.03283799,\n",
       "        5.39827471,  4.85086714,  6.03283799,  5.2333053 ,  5.37554222,\n",
       "        4.80873272,  5.48460972,  4.94695923,  4.80873272,  5.37554222,\n",
       "        5.48460972,  4.60795475,  5.35820485,  5.84519965,  5.28125267,\n",
       "        5.35820485,  5.04009049,  5.23130723,  5.29096598,  4.63174527,\n",
       "        5.2393933 ,  5.29096598,  6.03283799,  4.84157049,  5.2393933 ,\n",
       "        5.48460972,  6.03283799,  5.04898633,  6.03283799,  5.77037871,\n",
       "        5.04898633,  5.31139739,  4.63174527,  4.63174527,  4.84157049,\n",
       "        6.03283799,  5.56825   ,  5.56652765,  4.86710962,  5.44725295,\n",
       "        5.29990744,  4.90239348,  5.56652765,  4.92883188,  5.04898633,\n",
       "        5.56560605,  5.59148858,  4.90005875,  5.33151235,  5.04898633,\n",
       "        5.89840905,  5.29990744,  6.04980913,  5.0521523 ,  5.01126479,\n",
       "        5.90041594,  4.76782312,  5.0521523 ,  5.37948762,  5.09089312,\n",
       "        4.80063677,  5.09089312,  4.71799117,  5.90041594,  5.12813468,\n",
       "        5.0521523 ,  5.04520421,  4.99870571,  5.08249529,  5.25809205,\n",
       "        5.35481497,  5.25809205,  4.6812446 ,  5.3709609 ,  5.35481497,\n",
       "        5.89840905,  5.3709609 ,  5.0356676 ,  5.14262259,  5.40082731,\n",
       "        5.35860798,  5.25809205,  5.29116188,  5.14262259,  6.00863627,\n",
       "        4.91613869,  5.29700055,  5.04898633,  5.33016779,  5.29700055,\n",
       "        5.33151235,  5.3709609 ,  6.00863627,  6.00863627,  5.29578125,\n",
       "        5.29116188,  5.29116188,  5.43923465,  5.08831408,  5.10300488,\n",
       "        5.11160663,  4.37029329,  5.55976567,  5.10300488,  5.30198461,\n",
       "        4.57125837,  5.25145802,  5.13355624,  5.08831408,  4.7833239 ,\n",
       "        5.29116188,  5.38350934,  5.29584381,  4.7833239 ,  5.10300488,\n",
       "        5.38350934,  5.87355376,  4.65918252,  5.08831408,  5.44725295,\n",
       "        4.48869135,  5.34070054,  4.8953779 ,  5.92135798,  4.7833239 ,\n",
       "        5.10300488,  5.44725295,  4.52140655,  5.3709609 ,  5.53728375,\n",
       "        5.08831408,  4.62928645,  5.10300488,  5.86041007,  5.44725295,\n",
       "        5.3709609 ,  4.7833239 ,  5.44725295,  5.22431051,  4.7833239 ,\n",
       "        4.71872128,  5.07136391,  5.14052159,  4.71872128,  5.10300488,\n",
       "        4.59343944,  5.27160498,  4.7833239 ,  5.25148221,  4.92231185,\n",
       "        5.49636979,  5.72215368,  4.64670682,  4.85293787,  4.77354117,\n",
       "        4.64670682,  5.22695239,  5.29883823,  5.93780386,  5.01246111,\n",
       "        4.98939044,  5.59556587,  5.07697413,  5.47522309,  5.46170458,\n",
       "        5.34853254,  5.01246111,  5.0001265 ,  5.46170458,  5.83035933,\n",
       "        4.98413804,  5.34853254,  4.83157995,  5.73273383,  5.46170458,\n",
       "        5.53352124,  5.09767064,  5.71671744,  5.26893983,  5.17849372,\n",
       "        5.55903796,  4.98413804,  5.34066103,  5.44078642,  4.98413804,\n",
       "        5.69835035,  5.1336219 ,  5.01246111,  5.40451524,  5.34066103,\n",
       "        5.74809178,  5.12193132,  4.98413804,  5.01246111,  5.4664506 ,\n",
       "        5.12895723,  5.34066103,  5.44078642,  5.17849372,  4.98413804,\n",
       "        5.5926583 ,  5.49081439,  5.01246111,  5.5926583 ,  4.6552171 ,\n",
       "        5.48798522,  5.49081439,  5.17849372,  5.5926583 ,  4.98413804,\n",
       "        5.09767064,  5.5557837 ,  5.40451524,  4.39269339,  5.1039651 ,\n",
       "        5.1039651 ,  5.31340441,  5.39833684,  5.34537792,  5.59940839,\n",
       "        5.22695239,  5.77103034,  5.16329747,  4.84151864,  5.16329747,\n",
       "        4.99700054,  5.31340441,  4.84151864,  5.14685555,  5.27870633,\n",
       "        5.22695239,  5.39833684,  4.98413804,  5.77103034,  5.05386531,\n",
       "        5.34537792,  4.98413804,  5.39833684,  4.98413804,  5.59615412,\n",
       "        5.58197992,  5.34537792,  4.76459717,  5.36533191,  5.58197992,\n",
       "        5.15270925,  5.36533191,  4.45003487,  5.34226561,  5.00361245,\n",
       "        5.21379361,  5.00361245,  5.77103034,  5.05214347,  5.58197992,\n",
       "        5.04033952,  5.39833684,  5.77103034,  4.37571965,  5.4160152 ,\n",
       "        5.41926577,  5.6113188 ,  5.23134809,  5.53163432,  4.4350901 ,\n",
       "        5.04033952,  5.36532586,  5.11659809,  4.36909836,  5.41039302,\n",
       "        5.58197992,  5.11659809,  5.4331461 ,  5.46042098,  5.15270925,\n",
       "        5.40451524])"
      ]
     },
     "execution_count": 270,
     "metadata": {},
     "output_type": "execute_result"
    }
   ],
   "source": [
    "team2_bat_strength"
   ]
  },
  {
   "cell_type": "code",
   "execution_count": 271,
   "metadata": {},
   "outputs": [],
   "source": [
    "p=df_bowl.values\n",
    "pba=p[:,:22]\n",
    "pbs=p[:,22:44]\n",
    "pbe=p[:,44:66]"
   ]
  },
  {
   "cell_type": "code",
   "execution_count": 272,
   "metadata": {},
   "outputs": [],
   "source": [
    "pba=pba/pba.max()\n",
    "pbs=pbs/pbs.max()\n",
    "pbe=pbe/pbe.max()"
   ]
  },
  {
   "cell_type": "code",
   "execution_count": 273,
   "metadata": {},
   "outputs": [],
   "source": [
    "pba[pba==0]=1\n",
    "pbs[pbs==0]=1\n",
    "pbe[pbe==0]=1"
   ]
  },
  {
   "cell_type": "code",
   "execution_count": 275,
   "metadata": {},
   "outputs": [],
   "source": [
    "pbowl=(pba+pbs+pbe)"
   ]
  },
  {
   "cell_type": "code",
   "execution_count": 276,
   "metadata": {},
   "outputs": [],
   "source": [
    "team1_bowl=pbowl[:,:11]\n",
    "team2_bowl=pbowl[:,11:22]"
   ]
  },
  {
   "cell_type": "code",
   "execution_count": 291,
   "metadata": {},
   "outputs": [],
   "source": [
    "team1_bowl.sort()\n",
    "team2_bowl.sort()\n",
    "team1_top5_bowlers=team1_bowl[:,:5]\n",
    "team2_top5_bowlers=team2_bowl[:,:5]\n",
    "team1_bowl_strength=team1_top5_bowlers.sum(axis=1)\n",
    "team2_bowl_strength=team2_top5_bowlers.sum(axis=1)"
   ]
  },
  {
   "cell_type": "code",
   "execution_count": 292,
   "metadata": {},
   "outputs": [],
   "source": [
    "max1=team1_bat_strength.max()\n",
    "max2=team2_bat_strength.max()\n",
    "max_bat=max(max1,max2)\n",
    "max3=team1_bowl_strength.max()\n",
    "max4=team2_bowl_strength.max()\n",
    "max_bowl=max(max3,max4)\n",
    "\n",
    "team1_bat_strength=team1_bat_strength/max_bat\n",
    "team2_bat_strength=team2_bat_strength/max_bat\n",
    "team1_bowl_strength=team1_bowl_strength/max_bowl\n",
    "team2_bowl_strength=team2_bowl_strength/max_bowl\n",
    "\n",
    "t1bs=team1_bat_strength\n",
    "t2bs=team2_bat_strength\n",
    "t1bos=team1_bowl_strength\n",
    "t2bos=team2_bowl_strength"
   ]
  },
  {
   "cell_type": "code",
   "execution_count": 293,
   "metadata": {},
   "outputs": [],
   "source": [
    "#Create dataframe for these 4 columns and eventually merge them\n",
    "d = {'t1as': t1bs, 't2as': t2bs,\"t1bos\":t1bos,\"t2bos\":t2bos}\n",
    "df_players=pd.DataFrame(data=d)"
   ]
  },
  {
   "cell_type": "code",
   "execution_count": 294,
   "metadata": {},
   "outputs": [
    {
     "data": {
      "text/html": [
       "<div>\n",
       "<style scoped>\n",
       "    .dataframe tbody tr th:only-of-type {\n",
       "        vertical-align: middle;\n",
       "    }\n",
       "\n",
       "    .dataframe tbody tr th {\n",
       "        vertical-align: top;\n",
       "    }\n",
       "\n",
       "    .dataframe thead th {\n",
       "        text-align: right;\n",
       "    }\n",
       "</style>\n",
       "<table border=\"1\" class=\"dataframe\">\n",
       "  <thead>\n",
       "    <tr style=\"text-align: right;\">\n",
       "      <th></th>\n",
       "      <th>t1as</th>\n",
       "      <th>t1bos</th>\n",
       "      <th>t2as</th>\n",
       "      <th>t2bos</th>\n",
       "    </tr>\n",
       "  </thead>\n",
       "  <tbody>\n",
       "    <tr>\n",
       "      <th>0</th>\n",
       "      <td>0.903277</td>\n",
       "      <td>0.825236</td>\n",
       "      <td>0.772229</td>\n",
       "      <td>0.826225</td>\n",
       "    </tr>\n",
       "    <tr>\n",
       "      <th>1</th>\n",
       "      <td>0.828482</td>\n",
       "      <td>0.862043</td>\n",
       "      <td>0.983943</td>\n",
       "      <td>0.802755</td>\n",
       "    </tr>\n",
       "    <tr>\n",
       "      <th>2</th>\n",
       "      <td>0.802261</td>\n",
       "      <td>0.809254</td>\n",
       "      <td>0.707329</td>\n",
       "      <td>0.771397</td>\n",
       "    </tr>\n",
       "    <tr>\n",
       "      <th>3</th>\n",
       "      <td>0.741297</td>\n",
       "      <td>0.771154</td>\n",
       "      <td>0.915082</td>\n",
       "      <td>0.824158</td>\n",
       "    </tr>\n",
       "    <tr>\n",
       "      <th>4</th>\n",
       "      <td>0.772229</td>\n",
       "      <td>0.826225</td>\n",
       "      <td>0.849673</td>\n",
       "      <td>0.812632</td>\n",
       "    </tr>\n",
       "  </tbody>\n",
       "</table>\n",
       "</div>"
      ],
      "text/plain": [
       "       t1as     t1bos      t2as     t2bos\n",
       "0  0.903277  0.825236  0.772229  0.826225\n",
       "1  0.828482  0.862043  0.983943  0.802755\n",
       "2  0.802261  0.809254  0.707329  0.771397\n",
       "3  0.741297  0.771154  0.915082  0.824158\n",
       "4  0.772229  0.826225  0.849673  0.812632"
      ]
     },
     "execution_count": 294,
     "metadata": {},
     "output_type": "execute_result"
    }
   ],
   "source": [
    "df_players.head()"
   ]
  },
  {
   "cell_type": "code",
   "execution_count": 299,
   "metadata": {},
   "outputs": [],
   "source": [
    "df_new = pd.concat([df, df_players],axis=1)"
   ]
  },
  {
   "cell_type": "code",
   "execution_count": 303,
   "metadata": {},
   "outputs": [
    {
     "data": {
      "text/html": [
       "<div>\n",
       "<style scoped>\n",
       "    .dataframe tbody tr th:only-of-type {\n",
       "        vertical-align: middle;\n",
       "    }\n",
       "\n",
       "    .dataframe tbody tr th {\n",
       "        vertical-align: top;\n",
       "    }\n",
       "\n",
       "    .dataframe thead th {\n",
       "        text-align: right;\n",
       "    }\n",
       "</style>\n",
       "<table border=\"1\" class=\"dataframe\">\n",
       "  <thead>\n",
       "    <tr style=\"text-align: right;\">\n",
       "      <th></th>\n",
       "      <th>team1</th>\n",
       "      <th>team2</th>\n",
       "      <th>city</th>\n",
       "      <th>toss_decision</th>\n",
       "      <th>toss_winner</th>\n",
       "      <th>venue</th>\n",
       "      <th>winner</th>\n",
       "      <th>t1as</th>\n",
       "      <th>t1bos</th>\n",
       "      <th>t2as</th>\n",
       "      <th>t2bos</th>\n",
       "    </tr>\n",
       "  </thead>\n",
       "  <tbody>\n",
       "    <tr>\n",
       "      <th>0</th>\n",
       "      <td>10</td>\n",
       "      <td>3</td>\n",
       "      <td>15</td>\n",
       "      <td>1</td>\n",
       "      <td>3</td>\n",
       "      <td>28</td>\n",
       "      <td>10</td>\n",
       "      <td>0.903277</td>\n",
       "      <td>0.825236</td>\n",
       "      <td>0.772229</td>\n",
       "      <td>0.826225</td>\n",
       "    </tr>\n",
       "    <tr>\n",
       "      <th>1</th>\n",
       "      <td>1</td>\n",
       "      <td>11</td>\n",
       "      <td>27</td>\n",
       "      <td>1</td>\n",
       "      <td>11</td>\n",
       "      <td>21</td>\n",
       "      <td>11</td>\n",
       "      <td>0.828482</td>\n",
       "      <td>0.862043</td>\n",
       "      <td>0.983943</td>\n",
       "      <td>0.802755</td>\n",
       "    </tr>\n",
       "    <tr>\n",
       "      <th>2</th>\n",
       "      <td>8</td>\n",
       "      <td>2</td>\n",
       "      <td>29</td>\n",
       "      <td>1</td>\n",
       "      <td>2</td>\n",
       "      <td>31</td>\n",
       "      <td>2</td>\n",
       "      <td>0.802261</td>\n",
       "      <td>0.809254</td>\n",
       "      <td>0.707329</td>\n",
       "      <td>0.771397</td>\n",
       "    </tr>\n",
       "    <tr>\n",
       "      <th>3</th>\n",
       "      <td>11</td>\n",
       "      <td>9</td>\n",
       "      <td>16</td>\n",
       "      <td>1</td>\n",
       "      <td>9</td>\n",
       "      <td>13</td>\n",
       "      <td>9</td>\n",
       "      <td>0.741297</td>\n",
       "      <td>0.771154</td>\n",
       "      <td>0.915082</td>\n",
       "      <td>0.824158</td>\n",
       "    </tr>\n",
       "    <tr>\n",
       "      <th>4</th>\n",
       "      <td>3</td>\n",
       "      <td>7</td>\n",
       "      <td>2</td>\n",
       "      <td>0</td>\n",
       "      <td>3</td>\n",
       "      <td>17</td>\n",
       "      <td>3</td>\n",
       "      <td>0.772229</td>\n",
       "      <td>0.826225</td>\n",
       "      <td>0.849673</td>\n",
       "      <td>0.812632</td>\n",
       "    </tr>\n",
       "  </tbody>\n",
       "</table>\n",
       "</div>"
      ],
      "text/plain": [
       "   team1  team2  city  toss_decision  toss_winner  venue  winner      t1as  \\\n",
       "0     10      3    15              1            3     28      10  0.903277   \n",
       "1      1     11    27              1           11     21      11  0.828482   \n",
       "2      8      2    29              1            2     31       2  0.802261   \n",
       "3     11      9    16              1            9     13       9  0.741297   \n",
       "4      3      7     2              0            3     17       3  0.772229   \n",
       "\n",
       "      t1bos      t2as     t2bos  \n",
       "0  0.825236  0.772229  0.826225  \n",
       "1  0.862043  0.983943  0.802755  \n",
       "2  0.809254  0.707329  0.771397  \n",
       "3  0.771154  0.915082  0.824158  \n",
       "4  0.826225  0.849673  0.812632  "
      ]
     },
     "execution_count": 303,
     "metadata": {},
     "output_type": "execute_result"
    }
   ],
   "source": [
    "df_new.head()"
   ]
  },
  {
   "cell_type": "code",
   "execution_count": 304,
   "metadata": {},
   "outputs": [],
   "source": [
    "df_new_backup=df_new.copy(deep=True)"
   ]
  },
  {
   "cell_type": "code",
   "execution_count": 310,
   "metadata": {},
   "outputs": [],
   "source": [
    "df_new.drop(labels=\"toss_decision\",axis=1,inplace=True)"
   ]
  },
  {
   "cell_type": "code",
   "execution_count": 323,
   "metadata": {},
   "outputs": [
    {
     "name": "stderr",
     "output_type": "stream",
     "text": [
      "/home/jeevan/.local/lib/python3.5/site-packages/ipykernel_launcher.py:12: DataConversionWarning: A column-vector y was passed when a 1d array was expected. Please change the shape of y to (n_samples,), for example using ravel().\n",
      "  if sys.path[0] == '':\n",
      "/home/jeevan/.local/lib/python3.5/site-packages/ipykernel_launcher.py:21: DataConversionWarning: A column-vector y was passed when a 1d array was expected. Please change the shape of y to (n_samples,), for example using ravel().\n"
     ]
    },
    {
     "name": "stdout",
     "output_type": "stream",
     "text": [
      "Accuracy : 100.000%\n"
     ]
    },
    {
     "name": "stderr",
     "output_type": "stream",
     "text": [
      "/home/jeevan/.local/lib/python3.5/site-packages/ipykernel_launcher.py:21: DataConversionWarning: A column-vector y was passed when a 1d array was expected. Please change the shape of y to (n_samples,), for example using ravel().\n",
      "/home/jeevan/.local/lib/python3.5/site-packages/ipykernel_launcher.py:21: DataConversionWarning: A column-vector y was passed when a 1d array was expected. Please change the shape of y to (n_samples,), for example using ravel().\n",
      "/home/jeevan/.local/lib/python3.5/site-packages/ipykernel_launcher.py:21: DataConversionWarning: A column-vector y was passed when a 1d array was expected. Please change the shape of y to (n_samples,), for example using ravel().\n",
      "/home/jeevan/.local/lib/python3.5/site-packages/ipykernel_launcher.py:21: DataConversionWarning: A column-vector y was passed when a 1d array was expected. Please change the shape of y to (n_samples,), for example using ravel().\n",
      "/home/jeevan/.local/lib/python3.5/site-packages/ipykernel_launcher.py:21: DataConversionWarning: A column-vector y was passed when a 1d array was expected. Please change the shape of y to (n_samples,), for example using ravel().\n",
      "/home/jeevan/.local/lib/python3.5/site-packages/ipykernel_launcher.py:21: DataConversionWarning: A column-vector y was passed when a 1d array was expected. Please change the shape of y to (n_samples,), for example using ravel().\n"
     ]
    },
    {
     "name": "stdout",
     "output_type": "stream",
     "text": [
      "Cross-Validation Score : 54.365%\n"
     ]
    },
    {
     "name": "stderr",
     "output_type": "stream",
     "text": [
      "/home/jeevan/.local/lib/python3.5/site-packages/ipykernel_launcher.py:26: DataConversionWarning: A column-vector y was passed when a 1d array was expected. Please change the shape of y to (n_samples,), for example using ravel().\n"
     ]
    }
   ],
   "source": [
    "model = RandomForestClassifier(n_estimators=100)\n",
    "outcome_var = ['winner']\n",
    "predictor_var = ['team1', 'team2', 'venue', 'toss_winner','city','t1as','t1bos','t2as','t2bos']\n",
    "classification_model(model, df_new,predictor_var,outcome_var)"
   ]
  },
  {
   "cell_type": "code",
   "execution_count": 313,
   "metadata": {},
   "outputs": [
    {
     "name": "stderr",
     "output_type": "stream",
     "text": [
      "/home/jeevan/.local/lib/python3.5/site-packages/ipykernel_launcher.py:12: DataConversionWarning: A column-vector y was passed when a 1d array was expected. Please change the shape of y to (n_samples,), for example using ravel().\n",
      "  if sys.path[0] == '':\n",
      "/home/jeevan/.local/lib/python3.5/site-packages/ipykernel_launcher.py:21: DataConversionWarning: A column-vector y was passed when a 1d array was expected. Please change the shape of y to (n_samples,), for example using ravel().\n"
     ]
    },
    {
     "name": "stdout",
     "output_type": "stream",
     "text": [
      "Accuracy : 87.963%\n"
     ]
    },
    {
     "name": "stderr",
     "output_type": "stream",
     "text": [
      "/home/jeevan/.local/lib/python3.5/site-packages/ipykernel_launcher.py:21: DataConversionWarning: A column-vector y was passed when a 1d array was expected. Please change the shape of y to (n_samples,), for example using ravel().\n",
      "/home/jeevan/.local/lib/python3.5/site-packages/ipykernel_launcher.py:21: DataConversionWarning: A column-vector y was passed when a 1d array was expected. Please change the shape of y to (n_samples,), for example using ravel().\n",
      "/home/jeevan/.local/lib/python3.5/site-packages/ipykernel_launcher.py:21: DataConversionWarning: A column-vector y was passed when a 1d array was expected. Please change the shape of y to (n_samples,), for example using ravel().\n",
      "/home/jeevan/.local/lib/python3.5/site-packages/ipykernel_launcher.py:21: DataConversionWarning: A column-vector y was passed when a 1d array was expected. Please change the shape of y to (n_samples,), for example using ravel().\n",
      "/home/jeevan/.local/lib/python3.5/site-packages/ipykernel_launcher.py:21: DataConversionWarning: A column-vector y was passed when a 1d array was expected. Please change the shape of y to (n_samples,), for example using ravel().\n",
      "/home/jeevan/.local/lib/python3.5/site-packages/ipykernel_launcher.py:21: DataConversionWarning: A column-vector y was passed when a 1d array was expected. Please change the shape of y to (n_samples,), for example using ravel().\n"
     ]
    },
    {
     "name": "stdout",
     "output_type": "stream",
     "text": [
      "Cross-Validation Score : 51.852%\n"
     ]
    },
    {
     "name": "stderr",
     "output_type": "stream",
     "text": [
      "/home/jeevan/.local/lib/python3.5/site-packages/ipykernel_launcher.py:26: DataConversionWarning: A column-vector y was passed when a 1d array was expected. Please change the shape of y to (n_samples,), for example using ravel().\n"
     ]
    }
   ],
   "source": [
    "model = RandomForestClassifier(n_estimators=100)\n",
    "outcome_var = ['winner']\n",
    "predictor_var = ['team1', 'team2', 'venue', 'toss_winner','city']\n",
    "classification_model(model, df_new,predictor_var,outcome_var)"
   ]
  },
  {
   "cell_type": "code",
   "execution_count": 324,
   "metadata": {},
   "outputs": [
    {
     "data": {
      "text/plain": [
       "array([ 0.12691535,  0.16165628,  0.09564358,  0.11726927,  0.08760579,\n",
       "        0.10409969,  0.10396339,  0.10169553,  0.10115111])"
      ]
     },
     "execution_count": 324,
     "metadata": {},
     "output_type": "execute_result"
    }
   ],
   "source": [
    "model.feature_importances_"
   ]
  },
  {
   "cell_type": "code",
   "execution_count": null,
   "metadata": {},
   "outputs": [],
   "source": []
  }
 ],
 "metadata": {
  "kernelspec": {
   "display_name": "Python 3",
   "language": "python",
   "name": "python3"
  },
  "language_info": {
   "codemirror_mode": {
    "name": "ipython",
    "version": 3
   },
   "file_extension": ".py",
   "mimetype": "text/x-python",
   "name": "python",
   "nbconvert_exporter": "python",
   "pygments_lexer": "ipython3",
   "version": "3.5.5"
  }
 },
 "nbformat": 4,
 "nbformat_minor": 2
}
